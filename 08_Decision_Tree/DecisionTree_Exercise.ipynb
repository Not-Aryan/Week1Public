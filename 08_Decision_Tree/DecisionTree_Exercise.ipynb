{
 "cells": [
  {
   "cell_type": "markdown",
   "source": "# Decision Tree Worksheet",
   "metadata": {
    "colab_type": "text",
    "id": "-UimMCmGe19F",
    "cell_id": "00000-a17bbd0c-936b-4d1f-bfc8-e616765c57a2",
    "deepnote_cell_type": "markdown"
   }
  },
  {
   "cell_type": "code",
   "metadata": {
    "colab": {
     "autoexec": {
      "startup": false,
      "wait_interval": 0
     }
    },
    "colab_type": "code",
    "id": "kedW02LgKjVL",
    "cell_id": "00001-c3a1e231-0620-4e41-9bfb-126e240634bd",
    "deepnote_to_be_reexecuted": false,
    "source_hash": "eb9a879d",
    "execution_start": 1625688154317,
    "execution_millis": 2869,
    "deepnote_cell_type": "code"
   },
   "source": "import numpy as np\nimport pandas as pd\nfrom sklearn.model_selection import train_test_split\nfrom sklearn.tree import DecisionTreeClassifier\nfrom sklearn.metrics import accuracy_score\nfrom sklearn import tree\nfrom sklearn.ensemble import RandomForestClassifier\nfrom sklearn import metrics\nimport graphviz\nimport matplotlib.pyplot as plt",
   "outputs": [],
   "execution_count": null
  },
  {
   "cell_type": "markdown",
   "source": "## Loading data\n\nLoad Pima diabetes dataset and split data, with test size 20% and validaton 20%.",
   "metadata": {
    "colab_type": "text",
    "id": "rz35eT5-SMht",
    "cell_id": "00002-e2b4cf2f-ab18-4c3d-a27e-cb9494cd9638",
    "deepnote_cell_type": "markdown"
   }
  },
  {
   "cell_type": "code",
   "metadata": {
    "colab": {
     "autoexec": {
      "startup": false,
      "wait_interval": 0
     }
    },
    "colab_type": "code",
    "id": "Ydh9gmDkMGmu",
    "cell_id": "00003-5bf0a911-8f0b-4156-b87f-79779a708c8b",
    "deepnote_to_be_reexecuted": false,
    "source_hash": "c85f51ee",
    "execution_start": 1625688157192,
    "execution_millis": 226,
    "deepnote_cell_type": "code"
   },
   "source": "url = \"https://raw.githubusercontent.com/jbrownlee/Datasets/master/pima-indians-diabetes.data.csv\"\nnames = ['preg', 'plas', 'pres', 'skin', 'test', 'mass', 'pedi', 'age', 'class']\ndata = pd.read_csv(url, names=names)\n\n# Dropping NaN rows\ninvalid = ['plas', 'pres', 'skin', 'test', 'mass']\n\n# Replace 0's with NaN's in the \"invalid\" columns\nfor i in invalid:\n    data[i].replace(to_replace=0, value=np.nan, inplace=True)\n\n# Drop rows with NaN's, and drop the resultant indexing column\ndata = data.dropna(axis=0).reset_index(drop=True)\ndata.head()\n## YOUR CODE HERE\nX_cols = ['preg', 'plas', 'pres', 'skin', 'test', 'mass', 'pedi', 'age']\ny_col = 'class'\n\ntest_size = 0.2\nX_train, X_test, y_train, y_test = train_test_split(data[X_cols], data[y_col], test_size=test_size, random_state=0)\nX_train, X_val, y_train, y_val = train_test_split(X_train, y_train, test_size=test_size, random_state=0)\n",
   "outputs": [],
   "execution_count": null
  },
  {
   "cell_type": "markdown",
   "source": "## Creating Model\n\nMake a model using sklearn's DecisionTreeClassifier, with a high max-depth and low minimum sample leafs.",
   "metadata": {
    "colab_type": "text",
    "id": "KAFhsJIsSpMR",
    "cell_id": "00004-6639bcea-5f35-47d7-b6ef-12778faac808",
    "deepnote_cell_type": "markdown"
   }
  },
  {
   "cell_type": "code",
   "metadata": {
    "colab": {
     "autoexec": {
      "startup": false,
      "wait_interval": 0
     }
    },
    "colab_type": "code",
    "id": "fHbA28aFS2DM",
    "cell_id": "00005-34b9ffb0-76e4-42f5-8e16-3f49f8c50e72",
    "deepnote_to_be_reexecuted": false,
    "source_hash": "3b54c434",
    "execution_start": 1625688157418,
    "execution_millis": 70,
    "deepnote_cell_type": "code"
   },
   "source": "## YOUR CODE HERE\ndecision_tree = DecisionTreeClassifier(criterion = \"entropy\", random_state = None, max_depth=50, min_samples_leaf=5)\ndecision_tree.fit(X_train, y_train)",
   "outputs": [
    {
     "output_type": "execute_result",
     "execution_count": 3,
     "data": {
      "text/plain": "DecisionTreeClassifier(criterion='entropy', max_depth=50, min_samples_leaf=5)"
     },
     "metadata": {}
    }
   ],
   "execution_count": null
  },
  {
   "cell_type": "markdown",
   "source": "Print accuracy of training and validation data.",
   "metadata": {
    "colab_type": "text",
    "id": "4_8DZinWTJRa",
    "cell_id": "00006-81e439d6-7a96-472e-9262-17c68e1d0b9e",
    "deepnote_cell_type": "markdown"
   }
  },
  {
   "cell_type": "code",
   "metadata": {
    "colab": {
     "autoexec": {
      "startup": false,
      "wait_interval": 0
     }
    },
    "colab_type": "code",
    "id": "EgByCP_EhyB2",
    "cell_id": "00007-e8d6f2e4-f39b-46a2-9d98-d51ee62690da",
    "deepnote_to_be_reexecuted": false,
    "source_hash": "164691b6",
    "execution_start": 1625688157419,
    "execution_millis": 72,
    "deepnote_cell_type": "code"
   },
   "source": "## YOUR CODE HERE\ny_train_pred=decision_tree.predict(X_train)\nprint(\"Training Accuracy is \", accuracy_score(y_train, y_train_pred)*100)\ny_val_pred=decision_tree.predict(X_val)\nprint(\"Validation Accuracy is \", accuracy_score(y_val,y_val_pred)*100)",
   "outputs": [
    {
     "name": "stdout",
     "text": "Training Accuracy is  91.2\nValidation Accuracy is  74.60317460317461\n",
     "output_type": "stream"
    }
   ],
   "execution_count": null
  },
  {
   "cell_type": "markdown",
   "source": "Make a model with a low max-depth and higher minimum sample leafs.",
   "metadata": {
    "colab_type": "text",
    "id": "6HNa6fxbT6ak",
    "cell_id": "00008-6e91e88a-ef5c-4aed-8764-def8ee31374d",
    "deepnote_cell_type": "markdown"
   }
  },
  {
   "cell_type": "code",
   "metadata": {
    "colab": {
     "autoexec": {
      "startup": false,
      "wait_interval": 0
     },
     "base_uri": "https://localhost:8080/",
     "height": 17
    },
    "colab_type": "code",
    "executionInfo": {
     "elapsed": 287,
     "status": "ok",
     "timestamp": 1530627778885,
     "user": {
      "displayName": "john passarelli",
      "photoUrl": "https://lh3.googleusercontent.com/a/default-user=s128",
      "userId": "102241934905781120798"
     },
     "user_tz": 240
    },
    "id": "6Pbu-t_tiqnB",
    "outputId": "ef95b427-e6b4-41a7-f992-9826342b662c",
    "cell_id": "00009-dc03dee1-6581-4b23-bd62-24cf1243aa14",
    "deepnote_to_be_reexecuted": false,
    "source_hash": "8deb3197",
    "execution_start": 1625688157475,
    "execution_millis": 39,
    "deepnote_cell_type": "code"
   },
   "source": "## YOUR CODE HERE\ndecision_tree_lowd = DecisionTreeClassifier(criterion = \"entropy\", random_state = None, max_depth=5, min_samples_leaf=50)\ndecision_tree_lowd.fit(X_train, y_train)",
   "outputs": [
    {
     "output_type": "execute_result",
     "execution_count": 5,
     "data": {
      "text/plain": "DecisionTreeClassifier(criterion='entropy', max_depth=5, min_samples_leaf=50)"
     },
     "metadata": {}
    }
   ],
   "execution_count": null
  },
  {
   "cell_type": "markdown",
   "source": "Print accuracy of training and validation data.",
   "metadata": {
    "cell_id": "00010-7d8f485f-76b0-4e38-a2e5-088cb3280c4c",
    "deepnote_cell_type": "markdown"
   }
  },
  {
   "cell_type": "code",
   "metadata": {
    "cell_id": "00011-3f1ae7c6-a846-4695-94e8-22d5b70aa40e",
    "deepnote_to_be_reexecuted": false,
    "source_hash": "e326d75f",
    "execution_start": 1625688157504,
    "execution_millis": 27,
    "deepnote_cell_type": "code"
   },
   "source": "## YOUR CODE HERE\ny_train_pred_low_depth=decision_tree_lowd.predict(X_train)\nprint(\"Training Accuracy is \", accuracy_score(y_train, y_train_pred_low_depth)*100)\ny_val_pred_low_depth=decision_tree_lowd.predict(X_val)\nprint(\"Validation Accuracy is \", accuracy_score(y_val,y_val_pred_low_depth)*100)",
   "outputs": [
    {
     "name": "stdout",
     "text": "Training Accuracy is  77.2\nValidation Accuracy is  73.01587301587301\n",
     "output_type": "stream"
    }
   ],
   "execution_count": null
  },
  {
   "cell_type": "markdown",
   "source": "Explain the accuracy results below. \n\nThe model with high max_depth tends to perform better overall compared with the model with low max_depth, but the low max_depth model is influenced less by overfitting.",
   "metadata": {
    "cell_id": "00012-9cf39459-b066-4108-a92c-db97336134c5",
    "deepnote_cell_type": "markdown"
   }
  },
  {
   "cell_type": "markdown",
   "source": "## Metrics",
   "metadata": {
    "cell_id": "00013-f73ddd54-5cd5-4d88-bfef-6e7d298889a7",
    "deepnote_cell_type": "markdown"
   }
  },
  {
   "cell_type": "markdown",
   "source": "Plot the ROC curve and print the AUC of the second model.",
   "metadata": {
    "cell_id": "00014-debf10c1-dd3b-46a5-ac8b-2371da3d5867",
    "deepnote_cell_type": "markdown"
   }
  },
  {
   "cell_type": "code",
   "metadata": {
    "cell_id": "00015-e99a7d62-9b22-4318-b695-8427017bfbcf",
    "deepnote_to_be_reexecuted": false,
    "source_hash": "f32f51ed",
    "execution_start": 1625688555657,
    "execution_millis": 184,
    "deepnote_cell_type": "code"
   },
   "source": "## YOUR CODE HERE\n\nfrom sklearn import metrics\n\nlabels = [0,1]\ny_val_prob = decision_tree_lowd.predict_proba(X_val)\n\nfpr, tpr, thresholds = metrics.roc_curve(y_val, y_val_prob[:,1])\n\nroc_auc = metrics.auc(fpr, tpr)\nprint(roc_auc)\n\nplt.figure(figsize=(6,6))\nlw = 2\nplt.plot(fpr, tpr, color='darkorange',\n         lw=lw, label='ROC curve (area = %0.2f)' % roc_auc)\nplt.plot([0, 1], [0, 1], color='navy', lw=lw, linestyle='--')\nplt.xlim([0.0, 1.0])\nplt.ylim([0.0, 1.0])\nplt.xlabel('False Positive Rate')\nplt.ylabel('True Positive Rate')\nplt.title('Receiver operating characteristic')\nplt.legend(loc=\"lower right\")\nplt.show()\n\nprint(X_train.iloc[1, :])",
   "outputs": [
    {
     "name": "stdout",
     "text": "0.7804347826086957\n",
     "output_type": "stream"
    },
    {
     "data": {
      "text/plain": "<Figure size 432x432 with 1 Axes>",
      "image/png": "[encoded data removed]"
     },
     "metadata": {
      "needs_background": "light",
      "image/png": {
       "width": 394,
       "height": 387
      }
     },
     "output_type": "display_data"
    },
    {
     "name": "stdout",
     "text": "preg     1.000\nplas    87.000\npres    68.000\nskin    34.000\ntest    77.000\nmass    37.600\npedi     0.401\nage     24.000\nName: 289, dtype: float64\n",
     "output_type": "stream"
    }
   ],
   "execution_count": null
  },
  {
   "cell_type": "markdown",
   "source": "Use graphviz to visualize your 2nd tree.",
   "metadata": {
    "colab_type": "text",
    "id": "tKdqOMBKUvGZ",
    "cell_id": "00016-ceb0a3bf-53b7-4fda-95a1-8759c4cf9041",
    "deepnote_cell_type": "markdown"
   }
  },
  {
   "cell_type": "code",
   "metadata": {
    "colab": {
     "autoexec": {
      "startup": false,
      "wait_interval": 0
     }
    },
    "colab_type": "code",
    "id": "8o55bY_jl8gj",
    "cell_id": "00017-937c99ac-ed8f-4575-8a24-2033a69b5153",
    "deepnote_to_be_reexecuted": false,
    "source_hash": "b5b4c8ae",
    "execution_start": 1625688157984,
    "execution_millis": 87,
    "deepnote_cell_type": "code"
   },
   "source": "## YOUR CODE HERE\ndot_data = tree.export_graphviz(decision_tree, out_file=None, filled=True)\n\ngraph = graphviz.Source(dot_data)\ngraph",
   "outputs": [
    {
     "output_type": "execute_result",
     "execution_count": 8,
     "data": {
      "text/plain": "<graphviz.files.Source at 0x7f6fa6d1d1d0>",
      "image/svg+xml": "<?xml version=\"1.0\" encoding=\"UTF-8\" standalone=\"no\"?>\n<!DOCTYPE svg PUBLIC \"-//W3C//DTD SVG 1.1//EN\"\n \"http://www.w3.org/Graphics/SVG/1.1/DTD/svg11.dtd\">\n<!-- Generated by graphviz version 2.40.1 (20161225.0304)\n -->\n<!-- Title: Tree Pages: 1 -->\n<svg width=\"1730pt\" height=\"1101pt\"\n viewBox=\"0.00 0.00 1730.00 1101.00\" xmlns=\"http://www.w3.org/2000/svg\" xmlns:xlink=\"http://www.w3.org/1999/xlink\">\n<g id=\"graph0\" class=\"graph\" transform=\"scale(1 1) rotate(0) translate(4 1097)\">\n<title>Tree</title>\n<polygon fill=\"#ffffff\" stroke=\"transparent\" points=\"-4,4 -4,-1097 1726,-1097 1726,4 -4,4\"/>\n<!-- 0 -->\n<g id=\"node1\" class=\"node\">\n<title>0</title>\n<polygon fill=\"#f2be9a\" stroke=\"#000000\" points=\"906,-1093 766,-1093 766,-1025 906,-1025 906,-1093\"/>\n<text text-anchor=\"middle\" x=\"836\" y=\"-1077.8\" font-family=\"Times,serif\" font-size=\"14.00\" fill=\"#000000\">X[1] &lt;= 127.5</text>\n<text text-anchor=\"middle\" x=\"836\" y=\"-1062.8\" font-family=\"Times,serif\" font-size=\"14.00\" fill=\"#000000\">entropy = 0.913</text>\n<text text-anchor=\"middle\" x=\"836\" y=\"-1047.8\" font-family=\"Times,serif\" font-size=\"14.00\" fill=\"#000000\">samples = 250</text>\n<text text-anchor=\"middle\" x=\"836\" y=\"-1032.8\" font-family=\"Times,serif\" font-size=\"14.00\" fill=\"#000000\">value = [168, 82]</text>\n</g>\n<!-- 1 -->\n<g id=\"node2\" class=\"node\">\n<title>1</title>\n<polygon fill=\"#e9965a\" stroke=\"#000000\" points=\"759,-989 619,-989 619,-921 759,-921 759,-989\"/>\n<text text-anchor=\"middle\" x=\"689\" y=\"-973.8\" font-family=\"Times,serif\" font-size=\"14.00\" fill=\"#000000\">X[6] &lt;= 0.677</text>\n<text text-anchor=\"middle\" x=\"689\" y=\"-958.8\" font-family=\"Times,serif\" font-size=\"14.00\" fill=\"#000000\">entropy = 0.589</text>\n<text text-anchor=\"middle\" x=\"689\" y=\"-943.8\" font-family=\"Times,serif\" font-size=\"14.00\" fill=\"#000000\">samples = 155</text>\n<text text-anchor=\"middle\" x=\"689\" y=\"-928.8\" font-family=\"Times,serif\" font-size=\"14.00\" fill=\"#000000\">value = [133, 22]</text>\n</g>\n<!-- 0&#45;&gt;1 -->\n<g id=\"edge1\" class=\"edge\">\n<title>0&#45;&gt;1</title>\n<path fill=\"none\" stroke=\"#000000\" d=\"M787.8667,-1024.9465C774.4144,-1015.4293 759.67,-1004.9978 745.7688,-995.163\"/>\n<polygon fill=\"#000000\" stroke=\"#000000\" points=\"747.4264,-992.0483 737.2414,-989.13 743.3835,-997.7628 747.4264,-992.0483\"/>\n<text text-anchor=\"middle\" x=\"741.4628\" y=\"-1010.071\" font-family=\"Times,serif\" font-size=\"14.00\" fill=\"#000000\">True</text>\n</g>\n<!-- 30 -->\n<g id=\"node31\" class=\"node\">\n<title>30</title>\n<polygon fill=\"#acd6f4\" stroke=\"#000000\" points=\"1048,-989 914,-989 914,-921 1048,-921 1048,-989\"/>\n<text text-anchor=\"middle\" x=\"981\" y=\"-973.8\" font-family=\"Times,serif\" font-size=\"14.00\" fill=\"#000000\">X[7] &lt;= 23.5</text>\n<text text-anchor=\"middle\" x=\"981\" y=\"-958.8\" font-family=\"Times,serif\" font-size=\"14.00\" fill=\"#000000\">entropy = 0.949</text>\n<text text-anchor=\"middle\" x=\"981\" y=\"-943.8\" font-family=\"Times,serif\" font-size=\"14.00\" fill=\"#000000\">samples = 95</text>\n<text text-anchor=\"middle\" x=\"981\" y=\"-928.8\" font-family=\"Times,serif\" font-size=\"14.00\" fill=\"#000000\">value = [35, 60]</text>\n</g>\n<!-- 0&#45;&gt;30 -->\n<g id=\"edge30\" class=\"edge\">\n<title>0&#45;&gt;30</title>\n<path fill=\"none\" stroke=\"#000000\" d=\"M883.4784,-1024.9465C896.7477,-1015.4293 911.2915,-1004.9978 925.0035,-995.163\"/>\n<polygon fill=\"#000000\" stroke=\"#000000\" points=\"927.3288,-997.8024 933.4149,-989.13 923.249,-992.1142 927.3288,-997.8024\"/>\n<text text-anchor=\"middle\" x=\"929.3531\" y=\"-1010.0978\" font-family=\"Times,serif\" font-size=\"14.00\" fill=\"#000000\">False</text>\n</g>\n<!-- 2 -->\n<g id=\"node3\" class=\"node\">\n<title>2</title>\n<polygon fill=\"#e78a46\" stroke=\"#000000\" points=\"406,-885 272,-885 272,-817 406,-817 406,-885\"/>\n<text text-anchor=\"middle\" x=\"339\" y=\"-869.8\" font-family=\"Times,serif\" font-size=\"14.00\" fill=\"#000000\">X[5] &lt;= 30.95</text>\n<text text-anchor=\"middle\" x=\"339\" y=\"-854.8\" font-family=\"Times,serif\" font-size=\"14.00\" fill=\"#000000\">entropy = 0.342</text>\n<text text-anchor=\"middle\" x=\"339\" y=\"-839.8\" font-family=\"Times,serif\" font-size=\"14.00\" fill=\"#000000\">samples = 110</text>\n<text text-anchor=\"middle\" x=\"339\" y=\"-824.8\" font-family=\"Times,serif\" font-size=\"14.00\" fill=\"#000000\">value = [103, 7]</text>\n</g>\n<!-- 1&#45;&gt;2 -->\n<g id=\"edge2\" class=\"edge\">\n<title>1&#45;&gt;2</title>\n<path fill=\"none\" stroke=\"#000000\" d=\"M618.5933,-934.0792C559.8797,-916.6328 476.3554,-891.8142 415.9021,-873.8509\"/>\n<polygon fill=\"#000000\" stroke=\"#000000\" points=\"416.6113,-870.4105 406.0286,-870.9171 414.6174,-877.1205 416.6113,-870.4105\"/>\n</g>\n<!-- 15 -->\n<g id=\"node16\" class=\"node\">\n<title>15</title>\n<polygon fill=\"#f2c09c\" stroke=\"#000000\" points=\"756,-885 622,-885 622,-817 756,-817 756,-885\"/>\n<text text-anchor=\"middle\" x=\"689\" y=\"-869.8\" font-family=\"Times,serif\" font-size=\"14.00\" fill=\"#000000\">X[7] &lt;= 25.5</text>\n<text text-anchor=\"middle\" x=\"689\" y=\"-854.8\" font-family=\"Times,serif\" font-size=\"14.00\" fill=\"#000000\">entropy = 0.918</text>\n<text text-anchor=\"middle\" x=\"689\" y=\"-839.8\" font-family=\"Times,serif\" font-size=\"14.00\" fill=\"#000000\">samples = 45</text>\n<text text-anchor=\"middle\" x=\"689\" y=\"-824.8\" font-family=\"Times,serif\" font-size=\"14.00\" fill=\"#000000\">value = [30, 15]</text>\n</g>\n<!-- 1&#45;&gt;15 -->\n<g id=\"edge15\" class=\"edge\">\n<title>1&#45;&gt;15</title>\n<path fill=\"none\" stroke=\"#000000\" d=\"M689,-920.9465C689,-912.776 689,-903.9318 689,-895.3697\"/>\n<polygon fill=\"#000000\" stroke=\"#000000\" points=\"692.5001,-895.13 689,-885.13 685.5001,-895.13 692.5001,-895.13\"/>\n</g>\n<!-- 3 -->\n<g id=\"node4\" class=\"node\">\n<title>3</title>\n<polygon fill=\"#e58139\" stroke=\"#000000\" points=\"254,-773.5 132,-773.5 132,-720.5 254,-720.5 254,-773.5\"/>\n<text text-anchor=\"middle\" x=\"193\" y=\"-758.3\" font-family=\"Times,serif\" font-size=\"14.00\" fill=\"#000000\">entropy = 0.0</text>\n<text text-anchor=\"middle\" x=\"193\" y=\"-743.3\" font-family=\"Times,serif\" font-size=\"14.00\" fill=\"#000000\">samples = 45</text>\n<text text-anchor=\"middle\" x=\"193\" y=\"-728.3\" font-family=\"Times,serif\" font-size=\"14.00\" fill=\"#000000\">value = [45, 0]</text>\n</g>\n<!-- 2&#45;&gt;3 -->\n<g id=\"edge3\" class=\"edge\">\n<title>2&#45;&gt;3</title>\n<path fill=\"none\" stroke=\"#000000\" d=\"M291.1941,-816.9465C274.3392,-804.9403 255.4419,-791.4791 238.7601,-779.5962\"/>\n<polygon fill=\"#000000\" stroke=\"#000000\" points=\"240.4367,-776.4933 230.2611,-773.5422 236.3753,-782.1947 240.4367,-776.4933\"/>\n</g>\n<!-- 4 -->\n<g id=\"node5\" class=\"node\">\n<title>4</title>\n<polygon fill=\"#e89051\" stroke=\"#000000\" points=\"406,-781 272,-781 272,-713 406,-713 406,-781\"/>\n<text text-anchor=\"middle\" x=\"339\" y=\"-765.8\" font-family=\"Times,serif\" font-size=\"14.00\" fill=\"#000000\">X[5] &lt;= 37.5</text>\n<text text-anchor=\"middle\" x=\"339\" y=\"-750.8\" font-family=\"Times,serif\" font-size=\"14.00\" fill=\"#000000\">entropy = 0.493</text>\n<text text-anchor=\"middle\" x=\"339\" y=\"-735.8\" font-family=\"Times,serif\" font-size=\"14.00\" fill=\"#000000\">samples = 65</text>\n<text text-anchor=\"middle\" x=\"339\" y=\"-720.8\" font-family=\"Times,serif\" font-size=\"14.00\" fill=\"#000000\">value = [58, 7]</text>\n</g>\n<!-- 2&#45;&gt;4 -->\n<g id=\"edge4\" class=\"edge\">\n<title>2&#45;&gt;4</title>\n<path fill=\"none\" stroke=\"#000000\" d=\"M339,-816.9465C339,-808.776 339,-799.9318 339,-791.3697\"/>\n<polygon fill=\"#000000\" stroke=\"#000000\" points=\"342.5001,-791.13 339,-781.13 335.5001,-791.13 342.5001,-791.13\"/>\n</g>\n<!-- 5 -->\n<g id=\"node6\" class=\"node\">\n<title>5</title>\n<polygon fill=\"#ea9a61\" stroke=\"#000000\" points=\"259.5,-677 134.5,-677 134.5,-609 259.5,-609 259.5,-677\"/>\n<text text-anchor=\"middle\" x=\"197\" y=\"-661.8\" font-family=\"Times,serif\" font-size=\"14.00\" fill=\"#000000\">X[3] &lt;= 24.0</text>\n<text text-anchor=\"middle\" x=\"197\" y=\"-646.8\" font-family=\"Times,serif\" font-size=\"14.00\" fill=\"#000000\">entropy = 0.65</text>\n<text text-anchor=\"middle\" x=\"197\" y=\"-631.8\" font-family=\"Times,serif\" font-size=\"14.00\" fill=\"#000000\">samples = 42</text>\n<text text-anchor=\"middle\" x=\"197\" y=\"-616.8\" font-family=\"Times,serif\" font-size=\"14.00\" fill=\"#000000\">value = [35, 7]</text>\n</g>\n<!-- 4&#45;&gt;5 -->\n<g id=\"edge5\" class=\"edge\">\n<title>4&#45;&gt;5</title>\n<path fill=\"none\" stroke=\"#000000\" d=\"M292.5039,-712.9465C279.5092,-703.4293 265.2663,-692.9978 251.8379,-683.163\"/>\n<polygon fill=\"#000000\" stroke=\"#000000\" points=\"253.7363,-680.2151 243.6006,-677.13 249.6002,-685.8624 253.7363,-680.2151\"/>\n</g>\n<!-- 14 -->\n<g id=\"node15\" class=\"node\">\n<title>14</title>\n<polygon fill=\"#e58139\" stroke=\"#000000\" points=\"400,-669.5 278,-669.5 278,-616.5 400,-616.5 400,-669.5\"/>\n<text text-anchor=\"middle\" x=\"339\" y=\"-654.3\" font-family=\"Times,serif\" font-size=\"14.00\" fill=\"#000000\">entropy = 0.0</text>\n<text text-anchor=\"middle\" x=\"339\" y=\"-639.3\" font-family=\"Times,serif\" font-size=\"14.00\" fill=\"#000000\">samples = 23</text>\n<text text-anchor=\"middle\" x=\"339\" y=\"-624.3\" font-family=\"Times,serif\" font-size=\"14.00\" fill=\"#000000\">value = [23, 0]</text>\n</g>\n<!-- 4&#45;&gt;14 -->\n<g id=\"edge14\" class=\"edge\">\n<title>4&#45;&gt;14</title>\n<path fill=\"none\" stroke=\"#000000\" d=\"M339,-712.9465C339,-702.2621 339,-690.4254 339,-679.5742\"/>\n<polygon fill=\"#000000\" stroke=\"#000000\" points=\"342.5001,-679.5421 339,-669.5422 335.5001,-679.5422 342.5001,-679.5421\"/>\n</g>\n<!-- 6 -->\n<g id=\"node7\" class=\"node\">\n<title>6</title>\n<polygon fill=\"#e58139\" stroke=\"#000000\" points=\"185,-565.5 63,-565.5 63,-512.5 185,-512.5 185,-565.5\"/>\n<text text-anchor=\"middle\" x=\"124\" y=\"-550.3\" font-family=\"Times,serif\" font-size=\"14.00\" fill=\"#000000\">entropy = 0.0</text>\n<text text-anchor=\"middle\" x=\"124\" y=\"-535.3\" font-family=\"Times,serif\" font-size=\"14.00\" fill=\"#000000\">samples = 12</text>\n<text text-anchor=\"middle\" x=\"124\" y=\"-520.3\" font-family=\"Times,serif\" font-size=\"14.00\" fill=\"#000000\">value = [12, 0]</text>\n</g>\n<!-- 5&#45;&gt;6 -->\n<g id=\"edge6\" class=\"edge\">\n<title>5&#45;&gt;6</title>\n<path fill=\"none\" stroke=\"#000000\" d=\"M173.0971,-608.9465C165.2108,-597.7113 156.4303,-585.2021 148.5002,-573.9043\"/>\n<polygon fill=\"#000000\" stroke=\"#000000\" points=\"151.2405,-571.7163 142.6306,-565.5422 145.5111,-575.7379 151.2405,-571.7163\"/>\n</g>\n<!-- 7 -->\n<g id=\"node8\" class=\"node\">\n<title>7</title>\n<polygon fill=\"#eda775\" stroke=\"#000000\" points=\"337,-573 203,-573 203,-505 337,-505 337,-573\"/>\n<text text-anchor=\"middle\" x=\"270\" y=\"-557.8\" font-family=\"Times,serif\" font-size=\"14.00\" fill=\"#000000\">X[6] &lt;= 0.256</text>\n<text text-anchor=\"middle\" x=\"270\" y=\"-542.8\" font-family=\"Times,serif\" font-size=\"14.00\" fill=\"#000000\">entropy = 0.784</text>\n<text text-anchor=\"middle\" x=\"270\" y=\"-527.8\" font-family=\"Times,serif\" font-size=\"14.00\" fill=\"#000000\">samples = 30</text>\n<text text-anchor=\"middle\" x=\"270\" y=\"-512.8\" font-family=\"Times,serif\" font-size=\"14.00\" fill=\"#000000\">value = [23, 7]</text>\n</g>\n<!-- 5&#45;&gt;7 -->\n<g id=\"edge7\" class=\"edge\">\n<title>5&#45;&gt;7</title>\n<path fill=\"none\" stroke=\"#000000\" d=\"M220.9029,-608.9465C227.0791,-600.1475 233.8038,-590.5672 240.239,-581.3993\"/>\n<polygon fill=\"#000000\" stroke=\"#000000\" points=\"243.1629,-583.3258 246.0434,-573.13 237.4334,-579.3041 243.1629,-583.3258\"/>\n</g>\n<!-- 8 -->\n<g id=\"node9\" class=\"node\">\n<title>8</title>\n<polygon fill=\"#fbeade\" stroke=\"#000000\" points=\"261,-469 127,-469 127,-401 261,-401 261,-469\"/>\n<text text-anchor=\"middle\" x=\"194\" y=\"-453.8\" font-family=\"Times,serif\" font-size=\"14.00\" fill=\"#000000\">X[6] &lt;= 0.187</text>\n<text text-anchor=\"middle\" x=\"194\" y=\"-438.8\" font-family=\"Times,serif\" font-size=\"14.00\" fill=\"#000000\">entropy = 0.994</text>\n<text text-anchor=\"middle\" x=\"194\" y=\"-423.8\" font-family=\"Times,serif\" font-size=\"14.00\" fill=\"#000000\">samples = 11</text>\n<text text-anchor=\"middle\" x=\"194\" y=\"-408.8\" font-family=\"Times,serif\" font-size=\"14.00\" fill=\"#000000\">value = [6, 5]</text>\n</g>\n<!-- 7&#45;&gt;8 -->\n<g id=\"edge8\" class=\"edge\">\n<title>7&#45;&gt;8</title>\n<path fill=\"none\" stroke=\"#000000\" d=\"M245.1148,-504.9465C238.6847,-496.1475 231.6837,-486.5672 224.9841,-477.3993\"/>\n<polygon fill=\"#000000\" stroke=\"#000000\" points=\"227.6672,-475.1389 218.9412,-469.13 222.0155,-479.269 227.6672,-475.1389\"/>\n</g>\n<!-- 11 -->\n<g id=\"node12\" class=\"node\">\n<title>11</title>\n<polygon fill=\"#e89050\" stroke=\"#000000\" points=\"413,-469 279,-469 279,-401 413,-401 413,-469\"/>\n<text text-anchor=\"middle\" x=\"346\" y=\"-453.8\" font-family=\"Times,serif\" font-size=\"14.00\" fill=\"#000000\">X[6] &lt;= 0.505</text>\n<text text-anchor=\"middle\" x=\"346\" y=\"-438.8\" font-family=\"Times,serif\" font-size=\"14.00\" fill=\"#000000\">entropy = 0.485</text>\n<text text-anchor=\"middle\" x=\"346\" y=\"-423.8\" font-family=\"Times,serif\" font-size=\"14.00\" fill=\"#000000\">samples = 19</text>\n<text text-anchor=\"middle\" x=\"346\" y=\"-408.8\" font-family=\"Times,serif\" font-size=\"14.00\" fill=\"#000000\">value = [17, 2]</text>\n</g>\n<!-- 7&#45;&gt;11 -->\n<g id=\"edge11\" class=\"edge\">\n<title>7&#45;&gt;11</title>\n<path fill=\"none\" stroke=\"#000000\" d=\"M294.8852,-504.9465C301.3153,-496.1475 308.3163,-486.5672 315.0159,-477.3993\"/>\n<polygon fill=\"#000000\" stroke=\"#000000\" points=\"317.9845,-479.269 321.0588,-469.13 312.3328,-475.1389 317.9845,-479.269\"/>\n</g>\n<!-- 9 -->\n<g id=\"node10\" class=\"node\">\n<title>9</title>\n<polygon fill=\"#e58139\" stroke=\"#000000\" points=\"116,-357.5 0,-357.5 0,-304.5 116,-304.5 116,-357.5\"/>\n<text text-anchor=\"middle\" x=\"58\" y=\"-342.3\" font-family=\"Times,serif\" font-size=\"14.00\" fill=\"#000000\">entropy = 0.0</text>\n<text text-anchor=\"middle\" x=\"58\" y=\"-327.3\" font-family=\"Times,serif\" font-size=\"14.00\" fill=\"#000000\">samples = 5</text>\n<text text-anchor=\"middle\" x=\"58\" y=\"-312.3\" font-family=\"Times,serif\" font-size=\"14.00\" fill=\"#000000\">value = [5, 0]</text>\n</g>\n<!-- 8&#45;&gt;9 -->\n<g id=\"edge9\" class=\"edge\">\n<title>8&#45;&gt;9</title>\n<path fill=\"none\" stroke=\"#000000\" d=\"M149.4685,-400.9465C133.9121,-389.0504 116.4879,-375.726 101.0541,-363.9237\"/>\n<polygon fill=\"#000000\" stroke=\"#000000\" points=\"102.7787,-360.8364 92.709,-357.5422 98.5265,-366.397 102.7787,-360.8364\"/>\n</g>\n<!-- 10 -->\n<g id=\"node11\" class=\"node\">\n<title>10</title>\n<polygon fill=\"#61b1ea\" stroke=\"#000000\" points=\"259.5,-357.5 134.5,-357.5 134.5,-304.5 259.5,-304.5 259.5,-357.5\"/>\n<text text-anchor=\"middle\" x=\"197\" y=\"-342.3\" font-family=\"Times,serif\" font-size=\"14.00\" fill=\"#000000\">entropy = 0.65</text>\n<text text-anchor=\"middle\" x=\"197\" y=\"-327.3\" font-family=\"Times,serif\" font-size=\"14.00\" fill=\"#000000\">samples = 6</text>\n<text text-anchor=\"middle\" x=\"197\" y=\"-312.3\" font-family=\"Times,serif\" font-size=\"14.00\" fill=\"#000000\">value = [1, 5]</text>\n</g>\n<!-- 8&#45;&gt;10 -->\n<g id=\"edge10\" class=\"edge\">\n<title>8&#45;&gt;10</title>\n<path fill=\"none\" stroke=\"#000000\" d=\"M194.9823,-400.9465C195.2905,-390.2621 195.632,-378.4254 195.945,-367.5742\"/>\n<polygon fill=\"#000000\" stroke=\"#000000\" points=\"199.4445,-367.639 196.2344,-357.5422 192.4474,-367.4371 199.4445,-367.639\"/>\n</g>\n<!-- 12 -->\n<g id=\"node13\" class=\"node\">\n<title>12</title>\n<polygon fill=\"#e58139\" stroke=\"#000000\" points=\"405,-357.5 283,-357.5 283,-304.5 405,-304.5 405,-357.5\"/>\n<text text-anchor=\"middle\" x=\"344\" y=\"-342.3\" font-family=\"Times,serif\" font-size=\"14.00\" fill=\"#000000\">entropy = 0.0</text>\n<text text-anchor=\"middle\" x=\"344\" y=\"-327.3\" font-family=\"Times,serif\" font-size=\"14.00\" fill=\"#000000\">samples = 14</text>\n<text text-anchor=\"middle\" x=\"344\" y=\"-312.3\" font-family=\"Times,serif\" font-size=\"14.00\" fill=\"#000000\">value = [14, 0]</text>\n</g>\n<!-- 11&#45;&gt;12 -->\n<g id=\"edge12\" class=\"edge\">\n<title>11&#45;&gt;12</title>\n<path fill=\"none\" stroke=\"#000000\" d=\"M345.3451,-400.9465C345.1397,-390.2621 344.912,-378.4254 344.7034,-367.5742\"/>\n<polygon fill=\"#000000\" stroke=\"#000000\" points=\"348.2021,-367.473 344.5104,-357.5422 341.2034,-367.6076 348.2021,-367.473\"/>\n</g>\n<!-- 13 -->\n<g id=\"node14\" class=\"node\">\n<title>13</title>\n<polygon fill=\"#f6d5bd\" stroke=\"#000000\" points=\"557,-357.5 423,-357.5 423,-304.5 557,-304.5 557,-357.5\"/>\n<text text-anchor=\"middle\" x=\"490\" y=\"-342.3\" font-family=\"Times,serif\" font-size=\"14.00\" fill=\"#000000\">entropy = 0.971</text>\n<text text-anchor=\"middle\" x=\"490\" y=\"-327.3\" font-family=\"Times,serif\" font-size=\"14.00\" fill=\"#000000\">samples = 5</text>\n<text text-anchor=\"middle\" x=\"490\" y=\"-312.3\" font-family=\"Times,serif\" font-size=\"14.00\" fill=\"#000000\">value = [3, 2]</text>\n</g>\n<!-- 11&#45;&gt;13 -->\n<g id=\"edge13\" class=\"edge\">\n<title>11&#45;&gt;13</title>\n<path fill=\"none\" stroke=\"#000000\" d=\"M393.151,-400.9465C409.775,-388.9403 428.4135,-375.4791 444.8667,-363.5962\"/>\n<polygon fill=\"#000000\" stroke=\"#000000\" points=\"447.1917,-366.2345 453.2493,-357.5422 443.0933,-360.5597 447.1917,-366.2345\"/>\n</g>\n<!-- 16 -->\n<g id=\"node17\" class=\"node\">\n<title>16</title>\n<polygon fill=\"#e78b48\" stroke=\"#000000\" points=\"686,-781 552,-781 552,-713 686,-713 686,-781\"/>\n<text text-anchor=\"middle\" x=\"619\" y=\"-765.8\" font-family=\"Times,serif\" font-size=\"14.00\" fill=\"#000000\">X[6] &lt;= 0.757</text>\n<text text-anchor=\"middle\" x=\"619\" y=\"-750.8\" font-family=\"Times,serif\" font-size=\"14.00\" fill=\"#000000\">entropy = 0.371</text>\n<text text-anchor=\"middle\" x=\"619\" y=\"-735.8\" font-family=\"Times,serif\" font-size=\"14.00\" fill=\"#000000\">samples = 14</text>\n<text text-anchor=\"middle\" x=\"619\" y=\"-720.8\" font-family=\"Times,serif\" font-size=\"14.00\" fill=\"#000000\">value = [13, 1]</text>\n</g>\n<!-- 15&#45;&gt;16 -->\n<g id=\"edge16\" class=\"edge\">\n<title>15&#45;&gt;16</title>\n<path fill=\"none\" stroke=\"#000000\" d=\"M666.0794,-816.9465C660.2174,-808.2373 653.8402,-798.7626 647.727,-789.6801\"/>\n<polygon fill=\"#000000\" stroke=\"#000000\" points=\"650.4595,-787.4716 641.9721,-781.13 644.6524,-791.3802 650.4595,-787.4716\"/>\n</g>\n<!-- 19 -->\n<g id=\"node20\" class=\"node\">\n<title>19</title>\n<polygon fill=\"#fae9dc\" stroke=\"#000000\" points=\"838,-781 704,-781 704,-713 838,-713 838,-781\"/>\n<text text-anchor=\"middle\" x=\"771\" y=\"-765.8\" font-family=\"Times,serif\" font-size=\"14.00\" fill=\"#000000\">X[4] &lt;= 85.5</text>\n<text text-anchor=\"middle\" x=\"771\" y=\"-750.8\" font-family=\"Times,serif\" font-size=\"14.00\" fill=\"#000000\">entropy = 0.993</text>\n<text text-anchor=\"middle\" x=\"771\" y=\"-735.8\" font-family=\"Times,serif\" font-size=\"14.00\" fill=\"#000000\">samples = 31</text>\n<text text-anchor=\"middle\" x=\"771\" y=\"-720.8\" font-family=\"Times,serif\" font-size=\"14.00\" fill=\"#000000\">value = [17, 14]</text>\n</g>\n<!-- 15&#45;&gt;19 -->\n<g id=\"edge19\" class=\"edge\">\n<title>15&#45;&gt;19</title>\n<path fill=\"none\" stroke=\"#000000\" d=\"M715.8499,-816.9465C722.8583,-808.0578 730.4955,-798.3716 737.791,-789.1188\"/>\n<polygon fill=\"#000000\" stroke=\"#000000\" points=\"740.6467,-791.1498 744.0898,-781.13 735.1498,-786.8157 740.6467,-791.1498\"/>\n</g>\n<!-- 17 -->\n<g id=\"node18\" class=\"node\">\n<title>17</title>\n<polygon fill=\"#eca06a\" stroke=\"#000000\" points=\"552,-669.5 418,-669.5 418,-616.5 552,-616.5 552,-669.5\"/>\n<text text-anchor=\"middle\" x=\"485\" y=\"-654.3\" font-family=\"Times,serif\" font-size=\"14.00\" fill=\"#000000\">entropy = 0.722</text>\n<text text-anchor=\"middle\" x=\"485\" y=\"-639.3\" font-family=\"Times,serif\" font-size=\"14.00\" fill=\"#000000\">samples = 5</text>\n<text text-anchor=\"middle\" x=\"485\" y=\"-624.3\" font-family=\"Times,serif\" font-size=\"14.00\" fill=\"#000000\">value = [4, 1]</text>\n</g>\n<!-- 16&#45;&gt;17 -->\n<g id=\"edge17\" class=\"edge\">\n<title>16&#45;&gt;17</title>\n<path fill=\"none\" stroke=\"#000000\" d=\"M575.1234,-712.9465C559.7957,-701.0504 542.6277,-687.726 527.4209,-675.9237\"/>\n<polygon fill=\"#000000\" stroke=\"#000000\" points=\"529.2444,-672.9085 519.1986,-669.5422 524.9525,-678.4384 529.2444,-672.9085\"/>\n</g>\n<!-- 18 -->\n<g id=\"node19\" class=\"node\">\n<title>18</title>\n<polygon fill=\"#e58139\" stroke=\"#000000\" points=\"686,-669.5 570,-669.5 570,-616.5 686,-616.5 686,-669.5\"/>\n<text text-anchor=\"middle\" x=\"628\" y=\"-654.3\" font-family=\"Times,serif\" font-size=\"14.00\" fill=\"#000000\">entropy = 0.0</text>\n<text text-anchor=\"middle\" x=\"628\" y=\"-639.3\" font-family=\"Times,serif\" font-size=\"14.00\" fill=\"#000000\">samples = 9</text>\n<text text-anchor=\"middle\" x=\"628\" y=\"-624.3\" font-family=\"Times,serif\" font-size=\"14.00\" fill=\"#000000\">value = [9, 0]</text>\n</g>\n<!-- 16&#45;&gt;18 -->\n<g id=\"edge18\" class=\"edge\">\n<title>16&#45;&gt;18</title>\n<path fill=\"none\" stroke=\"#000000\" d=\"M621.9469,-712.9465C622.8716,-702.2621 623.8959,-690.4254 624.8349,-679.5742\"/>\n<polygon fill=\"#000000\" stroke=\"#000000\" points=\"628.3278,-679.8067 625.7031,-669.5422 621.3539,-679.2031 628.3278,-679.8067\"/>\n</g>\n<!-- 20 -->\n<g id=\"node21\" class=\"node\">\n<title>20</title>\n<polygon fill=\"#e88f4f\" stroke=\"#000000\" points=\"838,-677 704,-677 704,-609 838,-609 838,-677\"/>\n<text text-anchor=\"middle\" x=\"771\" y=\"-661.8\" font-family=\"Times,serif\" font-size=\"14.00\" fill=\"#000000\">X[3] &lt;= 28.5</text>\n<text text-anchor=\"middle\" x=\"771\" y=\"-646.8\" font-family=\"Times,serif\" font-size=\"14.00\" fill=\"#000000\">entropy = 0.469</text>\n<text text-anchor=\"middle\" x=\"771\" y=\"-631.8\" font-family=\"Times,serif\" font-size=\"14.00\" fill=\"#000000\">samples = 10</text>\n<text text-anchor=\"middle\" x=\"771\" y=\"-616.8\" font-family=\"Times,serif\" font-size=\"14.00\" fill=\"#000000\">value = [9, 1]</text>\n</g>\n<!-- 19&#45;&gt;20 -->\n<g id=\"edge20\" class=\"edge\">\n<title>19&#45;&gt;20</title>\n<path fill=\"none\" stroke=\"#000000\" d=\"M771,-712.9465C771,-704.776 771,-695.9318 771,-687.3697\"/>\n<polygon fill=\"#000000\" stroke=\"#000000\" points=\"774.5001,-687.13 771,-677.13 767.5001,-687.13 774.5001,-687.13\"/>\n</g>\n<!-- 23 -->\n<g id=\"node24\" class=\"node\">\n<title>23</title>\n<polygon fill=\"#b3d9f5\" stroke=\"#000000\" points=\"990,-677 856,-677 856,-609 990,-609 990,-677\"/>\n<text text-anchor=\"middle\" x=\"923\" y=\"-661.8\" font-family=\"Times,serif\" font-size=\"14.00\" fill=\"#000000\">X[7] &lt;= 38.0</text>\n<text text-anchor=\"middle\" x=\"923\" y=\"-646.8\" font-family=\"Times,serif\" font-size=\"14.00\" fill=\"#000000\">entropy = 0.959</text>\n<text text-anchor=\"middle\" x=\"923\" y=\"-631.8\" font-family=\"Times,serif\" font-size=\"14.00\" fill=\"#000000\">samples = 21</text>\n<text text-anchor=\"middle\" x=\"923\" y=\"-616.8\" font-family=\"Times,serif\" font-size=\"14.00\" fill=\"#000000\">value = [8, 13]</text>\n</g>\n<!-- 19&#45;&gt;23 -->\n<g id=\"edge23\" class=\"edge\">\n<title>19&#45;&gt;23</title>\n<path fill=\"none\" stroke=\"#000000\" d=\"M820.7705,-712.9465C834.8115,-703.3395 850.214,-692.8009 864.7068,-682.8848\"/>\n<polygon fill=\"#000000\" stroke=\"#000000\" points=\"866.841,-685.6655 873.1177,-677.13 862.8882,-679.8883 866.841,-685.6655\"/>\n</g>\n<!-- 21 -->\n<g id=\"node22\" class=\"node\">\n<title>21</title>\n<polygon fill=\"#e58139\" stroke=\"#000000\" points=\"686,-565.5 570,-565.5 570,-512.5 686,-512.5 686,-565.5\"/>\n<text text-anchor=\"middle\" x=\"628\" y=\"-550.3\" font-family=\"Times,serif\" font-size=\"14.00\" fill=\"#000000\">entropy = 0.0</text>\n<text text-anchor=\"middle\" x=\"628\" y=\"-535.3\" font-family=\"Times,serif\" font-size=\"14.00\" fill=\"#000000\">samples = 5</text>\n<text text-anchor=\"middle\" x=\"628\" y=\"-520.3\" font-family=\"Times,serif\" font-size=\"14.00\" fill=\"#000000\">value = [5, 0]</text>\n</g>\n<!-- 20&#45;&gt;21 -->\n<g id=\"edge21\" class=\"edge\">\n<title>20&#45;&gt;21</title>\n<path fill=\"none\" stroke=\"#000000\" d=\"M724.1765,-608.9465C707.6679,-596.9403 689.1588,-583.4791 672.8198,-571.5962\"/>\n<polygon fill=\"#000000\" stroke=\"#000000\" points=\"674.6415,-568.5933 664.4955,-565.5422 670.5242,-574.2545 674.6415,-568.5933\"/>\n</g>\n<!-- 22 -->\n<g id=\"node23\" class=\"node\">\n<title>22</title>\n<polygon fill=\"#eca06a\" stroke=\"#000000\" points=\"838,-565.5 704,-565.5 704,-512.5 838,-512.5 838,-565.5\"/>\n<text text-anchor=\"middle\" x=\"771\" y=\"-550.3\" font-family=\"Times,serif\" font-size=\"14.00\" fill=\"#000000\">entropy = 0.722</text>\n<text text-anchor=\"middle\" x=\"771\" y=\"-535.3\" font-family=\"Times,serif\" font-size=\"14.00\" fill=\"#000000\">samples = 5</text>\n<text text-anchor=\"middle\" x=\"771\" y=\"-520.3\" font-family=\"Times,serif\" font-size=\"14.00\" fill=\"#000000\">value = [4, 1]</text>\n</g>\n<!-- 20&#45;&gt;22 -->\n<g id=\"edge22\" class=\"edge\">\n<title>20&#45;&gt;22</title>\n<path fill=\"none\" stroke=\"#000000\" d=\"M771,-608.9465C771,-598.2621 771,-586.4254 771,-575.5742\"/>\n<polygon fill=\"#000000\" stroke=\"#000000\" points=\"774.5001,-575.5421 771,-565.5422 767.5001,-575.5422 774.5001,-575.5421\"/>\n</g>\n<!-- 24 -->\n<g id=\"node25\" class=\"node\">\n<title>24</title>\n<polygon fill=\"#e6f3fc\" stroke=\"#000000\" points=\"990,-573 856,-573 856,-505 990,-505 990,-573\"/>\n<text text-anchor=\"middle\" x=\"923\" y=\"-557.8\" font-family=\"Times,serif\" font-size=\"14.00\" fill=\"#000000\">X[7] &lt;= 32.5</text>\n<text text-anchor=\"middle\" x=\"923\" y=\"-542.8\" font-family=\"Times,serif\" font-size=\"14.00\" fill=\"#000000\">entropy = 0.997</text>\n<text text-anchor=\"middle\" x=\"923\" y=\"-527.8\" font-family=\"Times,serif\" font-size=\"14.00\" fill=\"#000000\">samples = 15</text>\n<text text-anchor=\"middle\" x=\"923\" y=\"-512.8\" font-family=\"Times,serif\" font-size=\"14.00\" fill=\"#000000\">value = [7, 8]</text>\n</g>\n<!-- 23&#45;&gt;24 -->\n<g id=\"edge24\" class=\"edge\">\n<title>23&#45;&gt;24</title>\n<path fill=\"none\" stroke=\"#000000\" d=\"M923,-608.9465C923,-600.776 923,-591.9318 923,-583.3697\"/>\n<polygon fill=\"#000000\" stroke=\"#000000\" points=\"926.5001,-583.13 923,-573.13 919.5001,-583.13 926.5001,-583.13\"/>\n</g>\n<!-- 29 -->\n<g id=\"node30\" class=\"node\">\n<title>29</title>\n<polygon fill=\"#61b1ea\" stroke=\"#000000\" points=\"1133.5,-565.5 1008.5,-565.5 1008.5,-512.5 1133.5,-512.5 1133.5,-565.5\"/>\n<text text-anchor=\"middle\" x=\"1071\" y=\"-550.3\" font-family=\"Times,serif\" font-size=\"14.00\" fill=\"#000000\">entropy = 0.65</text>\n<text text-anchor=\"middle\" x=\"1071\" y=\"-535.3\" font-family=\"Times,serif\" font-size=\"14.00\" fill=\"#000000\">samples = 6</text>\n<text text-anchor=\"middle\" x=\"1071\" y=\"-520.3\" font-family=\"Times,serif\" font-size=\"14.00\" fill=\"#000000\">value = [1, 5]</text>\n</g>\n<!-- 23&#45;&gt;29 -->\n<g id=\"edge29\" class=\"edge\">\n<title>23&#45;&gt;29</title>\n<path fill=\"none\" stroke=\"#000000\" d=\"M971.4607,-608.9465C988.5465,-596.9403 1007.7028,-583.4791 1024.613,-571.5962\"/>\n<polygon fill=\"#000000\" stroke=\"#000000\" points=\"1027.0588,-574.1553 1033.2285,-565.5422 1023.0342,-568.428 1027.0588,-574.1553\"/>\n</g>\n<!-- 25 -->\n<g id=\"node26\" class=\"node\">\n<title>25</title>\n<polygon fill=\"#8ec7f0\" stroke=\"#000000\" points=\"895,-469 761,-469 761,-401 895,-401 895,-469\"/>\n<text text-anchor=\"middle\" x=\"828\" y=\"-453.8\" font-family=\"Times,serif\" font-size=\"14.00\" fill=\"#000000\">X[4] &lt;= 157.0</text>\n<text text-anchor=\"middle\" x=\"828\" y=\"-438.8\" font-family=\"Times,serif\" font-size=\"14.00\" fill=\"#000000\">entropy = 0.881</text>\n<text text-anchor=\"middle\" x=\"828\" y=\"-423.8\" font-family=\"Times,serif\" font-size=\"14.00\" fill=\"#000000\">samples = 10</text>\n<text text-anchor=\"middle\" x=\"828\" y=\"-408.8\" font-family=\"Times,serif\" font-size=\"14.00\" fill=\"#000000\">value = [3, 7]</text>\n</g>\n<!-- 24&#45;&gt;25 -->\n<g id=\"edge25\" class=\"edge\">\n<title>24&#45;&gt;25</title>\n<path fill=\"none\" stroke=\"#000000\" d=\"M891.8934,-504.9465C883.6099,-495.8782 874.5682,-485.9799 865.9621,-476.5585\"/>\n<polygon fill=\"#000000\" stroke=\"#000000\" points=\"868.505,-474.1528 859.1764,-469.13 863.3367,-478.8739 868.505,-474.1528\"/>\n</g>\n<!-- 28 -->\n<g id=\"node29\" class=\"node\">\n<title>28</title>\n<polygon fill=\"#eca06a\" stroke=\"#000000\" points=\"1047,-461.5 913,-461.5 913,-408.5 1047,-408.5 1047,-461.5\"/>\n<text text-anchor=\"middle\" x=\"980\" y=\"-446.3\" font-family=\"Times,serif\" font-size=\"14.00\" fill=\"#000000\">entropy = 0.722</text>\n<text text-anchor=\"middle\" x=\"980\" y=\"-431.3\" font-family=\"Times,serif\" font-size=\"14.00\" fill=\"#000000\">samples = 5</text>\n<text text-anchor=\"middle\" x=\"980\" y=\"-416.3\" font-family=\"Times,serif\" font-size=\"14.00\" fill=\"#000000\">value = [4, 1]</text>\n</g>\n<!-- 24&#45;&gt;28 -->\n<g id=\"edge28\" class=\"edge\">\n<title>24&#45;&gt;28</title>\n<path fill=\"none\" stroke=\"#000000\" d=\"M941.6639,-504.9465C947.7009,-493.9316 954.4091,-481.6922 960.5047,-470.5703\"/>\n<polygon fill=\"#000000\" stroke=\"#000000\" points=\"963.7158,-471.9936 965.4529,-461.5422 957.5773,-468.6292 963.7158,-471.9936\"/>\n</g>\n<!-- 26 -->\n<g id=\"node27\" class=\"node\">\n<title>26</title>\n<polygon fill=\"#6ab6ec\" stroke=\"#000000\" points=\"848,-357.5 714,-357.5 714,-304.5 848,-304.5 848,-357.5\"/>\n<text text-anchor=\"middle\" x=\"781\" y=\"-342.3\" font-family=\"Times,serif\" font-size=\"14.00\" fill=\"#000000\">entropy = 0.722</text>\n<text text-anchor=\"middle\" x=\"781\" y=\"-327.3\" font-family=\"Times,serif\" font-size=\"14.00\" fill=\"#000000\">samples = 5</text>\n<text text-anchor=\"middle\" x=\"781\" y=\"-312.3\" font-family=\"Times,serif\" font-size=\"14.00\" fill=\"#000000\">value = [1, 4]</text>\n</g>\n<!-- 25&#45;&gt;26 -->\n<g id=\"edge26\" class=\"edge\">\n<title>25&#45;&gt;26</title>\n<path fill=\"none\" stroke=\"#000000\" d=\"M812.6104,-400.9465C807.6823,-390.0418 802.2118,-377.9368 797.226,-366.9043\"/>\n<polygon fill=\"#000000\" stroke=\"#000000\" points=\"800.3027,-365.2134 792.995,-357.5422 793.9239,-368.0962 800.3027,-365.2134\"/>\n</g>\n<!-- 27 -->\n<g id=\"node28\" class=\"node\">\n<title>27</title>\n<polygon fill=\"#bddef6\" stroke=\"#000000\" points=\"1000,-357.5 866,-357.5 866,-304.5 1000,-304.5 1000,-357.5\"/>\n<text text-anchor=\"middle\" x=\"933\" y=\"-342.3\" font-family=\"Times,serif\" font-size=\"14.00\" fill=\"#000000\">entropy = 0.971</text>\n<text text-anchor=\"middle\" x=\"933\" y=\"-327.3\" font-family=\"Times,serif\" font-size=\"14.00\" fill=\"#000000\">samples = 5</text>\n<text text-anchor=\"middle\" x=\"933\" y=\"-312.3\" font-family=\"Times,serif\" font-size=\"14.00\" fill=\"#000000\">value = [2, 3]</text>\n</g>\n<!-- 25&#45;&gt;27 -->\n<g id=\"edge27\" class=\"edge\">\n<title>25&#45;&gt;27</title>\n<path fill=\"none\" stroke=\"#000000\" d=\"M862.3809,-400.9465C874.169,-389.2707 887.3462,-376.219 899.0962,-364.5809\"/>\n<polygon fill=\"#000000\" stroke=\"#000000\" points=\"901.5608,-367.066 906.2026,-357.5422 896.6348,-362.0927 901.5608,-367.066\"/>\n</g>\n<!-- 31 -->\n<g id=\"node32\" class=\"node\">\n<title>31</title>\n<polygon fill=\"#ea985d\" stroke=\"#000000\" points=\"1048,-885 914,-885 914,-817 1048,-817 1048,-885\"/>\n<text text-anchor=\"middle\" x=\"981\" y=\"-869.8\" font-family=\"Times,serif\" font-size=\"14.00\" fill=\"#000000\">X[5] &lt;= 31.05</text>\n<text text-anchor=\"middle\" x=\"981\" y=\"-854.8\" font-family=\"Times,serif\" font-size=\"14.00\" fill=\"#000000\">entropy = 0.619</text>\n<text text-anchor=\"middle\" x=\"981\" y=\"-839.8\" font-family=\"Times,serif\" font-size=\"14.00\" fill=\"#000000\">samples = 13</text>\n<text text-anchor=\"middle\" x=\"981\" y=\"-824.8\" font-family=\"Times,serif\" font-size=\"14.00\" fill=\"#000000\">value = [11, 2]</text>\n</g>\n<!-- 30&#45;&gt;31 -->\n<g id=\"edge31\" class=\"edge\">\n<title>30&#45;&gt;31</title>\n<path fill=\"none\" stroke=\"#000000\" d=\"M981,-920.9465C981,-912.776 981,-903.9318 981,-895.3697\"/>\n<polygon fill=\"#000000\" stroke=\"#000000\" points=\"984.5001,-895.13 981,-885.13 977.5001,-895.13 984.5001,-895.13\"/>\n</g>\n<!-- 34 -->\n<g id=\"node35\" class=\"node\">\n<title>34</title>\n<polygon fill=\"#8bc6f0\" stroke=\"#000000\" points=\"1267,-885 1133,-885 1133,-817 1267,-817 1267,-885\"/>\n<text text-anchor=\"middle\" x=\"1200\" y=\"-869.8\" font-family=\"Times,serif\" font-size=\"14.00\" fill=\"#000000\">X[3] &lt;= 16.5</text>\n<text text-anchor=\"middle\" x=\"1200\" y=\"-854.8\" font-family=\"Times,serif\" font-size=\"14.00\" fill=\"#000000\">entropy = 0.872</text>\n<text text-anchor=\"middle\" x=\"1200\" y=\"-839.8\" font-family=\"Times,serif\" font-size=\"14.00\" fill=\"#000000\">samples = 82</text>\n<text text-anchor=\"middle\" x=\"1200\" y=\"-824.8\" font-family=\"Times,serif\" font-size=\"14.00\" fill=\"#000000\">value = [24, 58]</text>\n</g>\n<!-- 30&#45;&gt;34 -->\n<g id=\"edge34\" class=\"edge\">\n<title>30&#45;&gt;34</title>\n<path fill=\"none\" stroke=\"#000000\" d=\"M1048.1955,-923.0898C1072.0546,-911.7595 1099.0802,-898.9254 1123.6478,-887.2586\"/>\n<polygon fill=\"#000000\" stroke=\"#000000\" points=\"1125.3998,-890.3013 1132.9315,-882.8499 1122.3969,-883.978 1125.3998,-890.3013\"/>\n</g>\n<!-- 32 -->\n<g id=\"node33\" class=\"node\">\n<title>32</title>\n<polygon fill=\"#e58139\" stroke=\"#000000\" points=\"972,-773.5 856,-773.5 856,-720.5 972,-720.5 972,-773.5\"/>\n<text text-anchor=\"middle\" x=\"914\" y=\"-758.3\" font-family=\"Times,serif\" font-size=\"14.00\" fill=\"#000000\">entropy = 0.0</text>\n<text text-anchor=\"middle\" x=\"914\" y=\"-743.3\" font-family=\"Times,serif\" font-size=\"14.00\" fill=\"#000000\">samples = 8</text>\n<text text-anchor=\"middle\" x=\"914\" y=\"-728.3\" font-family=\"Times,serif\" font-size=\"14.00\" fill=\"#000000\">value = [8, 0]</text>\n</g>\n<!-- 31&#45;&gt;32 -->\n<g id=\"edge32\" class=\"edge\">\n<title>31&#45;&gt;32</title>\n<path fill=\"none\" stroke=\"#000000\" d=\"M959.0617,-816.9465C951.8946,-805.8215 943.9227,-793.4473 936.7007,-782.237\"/>\n<polygon fill=\"#000000\" stroke=\"#000000\" points=\"939.4574,-780.0532 931.0993,-773.5422 933.5728,-783.8442 939.4574,-780.0532\"/>\n</g>\n<!-- 33 -->\n<g id=\"node34\" class=\"node\">\n<title>33</title>\n<polygon fill=\"#f6d5bd\" stroke=\"#000000\" points=\"1124,-773.5 990,-773.5 990,-720.5 1124,-720.5 1124,-773.5\"/>\n<text text-anchor=\"middle\" x=\"1057\" y=\"-758.3\" font-family=\"Times,serif\" font-size=\"14.00\" fill=\"#000000\">entropy = 0.971</text>\n<text text-anchor=\"middle\" x=\"1057\" y=\"-743.3\" font-family=\"Times,serif\" font-size=\"14.00\" fill=\"#000000\">samples = 5</text>\n<text text-anchor=\"middle\" x=\"1057\" y=\"-728.3\" font-family=\"Times,serif\" font-size=\"14.00\" fill=\"#000000\">value = [3, 2]</text>\n</g>\n<!-- 31&#45;&gt;33 -->\n<g id=\"edge33\" class=\"edge\">\n<title>31&#45;&gt;33</title>\n<path fill=\"none\" stroke=\"#000000\" d=\"M1005.8852,-816.9465C1014.0956,-805.7113 1023.2369,-793.2021 1031.493,-781.9043\"/>\n<polygon fill=\"#000000\" stroke=\"#000000\" points=\"1034.5295,-783.6812 1037.6038,-773.5422 1028.8777,-779.551 1034.5295,-783.6812\"/>\n</g>\n<!-- 35 -->\n<g id=\"node36\" class=\"node\">\n<title>35</title>\n<polygon fill=\"#e58139\" stroke=\"#000000\" points=\"1258,-773.5 1142,-773.5 1142,-720.5 1258,-720.5 1258,-773.5\"/>\n<text text-anchor=\"middle\" x=\"1200\" y=\"-758.3\" font-family=\"Times,serif\" font-size=\"14.00\" fill=\"#000000\">entropy = 0.0</text>\n<text text-anchor=\"middle\" x=\"1200\" y=\"-743.3\" font-family=\"Times,serif\" font-size=\"14.00\" fill=\"#000000\">samples = 5</text>\n<text text-anchor=\"middle\" x=\"1200\" y=\"-728.3\" font-family=\"Times,serif\" font-size=\"14.00\" fill=\"#000000\">value = [5, 0]</text>\n</g>\n<!-- 34&#45;&gt;35 -->\n<g id=\"edge35\" class=\"edge\">\n<title>34&#45;&gt;35</title>\n<path fill=\"none\" stroke=\"#000000\" d=\"M1200,-816.9465C1200,-806.2621 1200,-794.4254 1200,-783.5742\"/>\n<polygon fill=\"#000000\" stroke=\"#000000\" points=\"1203.5001,-783.5421 1200,-773.5422 1196.5001,-783.5422 1203.5001,-783.5421\"/>\n</g>\n<!-- 36 -->\n<g id=\"node37\" class=\"node\">\n<title>36</title>\n<polygon fill=\"#7abdee\" stroke=\"#000000\" points=\"1410,-781 1276,-781 1276,-713 1410,-713 1410,-781\"/>\n<text text-anchor=\"middle\" x=\"1343\" y=\"-765.8\" font-family=\"Times,serif\" font-size=\"14.00\" fill=\"#000000\">X[7] &lt;= 25.5</text>\n<text text-anchor=\"middle\" x=\"1343\" y=\"-750.8\" font-family=\"Times,serif\" font-size=\"14.00\" fill=\"#000000\">entropy = 0.806</text>\n<text text-anchor=\"middle\" x=\"1343\" y=\"-735.8\" font-family=\"Times,serif\" font-size=\"14.00\" fill=\"#000000\">samples = 77</text>\n<text text-anchor=\"middle\" x=\"1343\" y=\"-720.8\" font-family=\"Times,serif\" font-size=\"14.00\" fill=\"#000000\">value = [19, 58]</text>\n</g>\n<!-- 34&#45;&gt;36 -->\n<g id=\"edge36\" class=\"edge\">\n<title>34&#45;&gt;36</title>\n<path fill=\"none\" stroke=\"#000000\" d=\"M1246.8235,-816.9465C1259.9098,-807.4293 1274.253,-796.9978 1287.7759,-787.163\"/>\n<polygon fill=\"#000000\" stroke=\"#000000\" points=\"1290.0425,-789.8423 1296.0713,-781.13 1285.9253,-784.1812 1290.0425,-789.8423\"/>\n</g>\n<!-- 37 -->\n<g id=\"node38\" class=\"node\">\n<title>37</title>\n<polygon fill=\"#399de5\" stroke=\"#000000\" points=\"1281,-669.5 1165,-669.5 1165,-616.5 1281,-616.5 1281,-669.5\"/>\n<text text-anchor=\"middle\" x=\"1223\" y=\"-654.3\" font-family=\"Times,serif\" font-size=\"14.00\" fill=\"#000000\">entropy = 0.0</text>\n<text text-anchor=\"middle\" x=\"1223\" y=\"-639.3\" font-family=\"Times,serif\" font-size=\"14.00\" fill=\"#000000\">samples = 9</text>\n<text text-anchor=\"middle\" x=\"1223\" y=\"-624.3\" font-family=\"Times,serif\" font-size=\"14.00\" fill=\"#000000\">value = [0, 9]</text>\n</g>\n<!-- 36&#45;&gt;37 -->\n<g id=\"edge37\" class=\"edge\">\n<title>36&#45;&gt;37</title>\n<path fill=\"none\" stroke=\"#000000\" d=\"M1303.7075,-712.9465C1290.1083,-701.1606 1274.8915,-687.9726 1261.3676,-676.2519\"/>\n<polygon fill=\"#000000\" stroke=\"#000000\" points=\"1263.4748,-673.4466 1253.6256,-669.5422 1258.8902,-678.7364 1263.4748,-673.4466\"/>\n</g>\n<!-- 38 -->\n<g id=\"node39\" class=\"node\">\n<title>38</title>\n<polygon fill=\"#86c3ef\" stroke=\"#000000\" points=\"1433,-677 1299,-677 1299,-609 1433,-609 1433,-677\"/>\n<text text-anchor=\"middle\" x=\"1366\" y=\"-661.8\" font-family=\"Times,serif\" font-size=\"14.00\" fill=\"#000000\">X[1] &lt;= 133.5</text>\n<text text-anchor=\"middle\" x=\"1366\" y=\"-646.8\" font-family=\"Times,serif\" font-size=\"14.00\" fill=\"#000000\">entropy = 0.855</text>\n<text text-anchor=\"middle\" x=\"1366\" y=\"-631.8\" font-family=\"Times,serif\" font-size=\"14.00\" fill=\"#000000\">samples = 68</text>\n<text text-anchor=\"middle\" x=\"1366\" y=\"-616.8\" font-family=\"Times,serif\" font-size=\"14.00\" fill=\"#000000\">value = [19, 49]</text>\n</g>\n<!-- 36&#45;&gt;38 -->\n<g id=\"edge38\" class=\"edge\">\n<title>36&#45;&gt;38</title>\n<path fill=\"none\" stroke=\"#000000\" d=\"M1350.5311,-712.9465C1352.3578,-704.6863 1354.3369,-695.7374 1356.2499,-687.0875\"/>\n<polygon fill=\"#000000\" stroke=\"#000000\" points=\"1359.71,-687.6499 1358.452,-677.13 1352.8752,-686.1383 1359.71,-687.6499\"/>\n</g>\n<!-- 39 -->\n<g id=\"node40\" class=\"node\">\n<title>39</title>\n<polygon fill=\"#399de5\" stroke=\"#000000\" points=\"1305,-565.5 1189,-565.5 1189,-512.5 1305,-512.5 1305,-565.5\"/>\n<text text-anchor=\"middle\" x=\"1247\" y=\"-550.3\" font-family=\"Times,serif\" font-size=\"14.00\" fill=\"#000000\">entropy = 0.0</text>\n<text text-anchor=\"middle\" x=\"1247\" y=\"-535.3\" font-family=\"Times,serif\" font-size=\"14.00\" fill=\"#000000\">samples = 8</text>\n<text text-anchor=\"middle\" x=\"1247\" y=\"-520.3\" font-family=\"Times,serif\" font-size=\"14.00\" fill=\"#000000\">value = [0, 8]</text>\n</g>\n<!-- 38&#45;&gt;39 -->\n<g id=\"edge39\" class=\"edge\">\n<title>38&#45;&gt;39</title>\n<path fill=\"none\" stroke=\"#000000\" d=\"M1327.0349,-608.9465C1313.5491,-597.1606 1298.4591,-583.9726 1285.0479,-572.2519\"/>\n<polygon fill=\"#000000\" stroke=\"#000000\" points=\"1287.2033,-569.4874 1277.3704,-565.5422 1282.5969,-574.7582 1287.2033,-569.4874\"/>\n</g>\n<!-- 40 -->\n<g id=\"node41\" class=\"node\">\n<title>40</title>\n<polygon fill=\"#95caf1\" stroke=\"#000000\" points=\"1457,-573 1323,-573 1323,-505 1457,-505 1457,-573\"/>\n<text text-anchor=\"middle\" x=\"1390\" y=\"-557.8\" font-family=\"Times,serif\" font-size=\"14.00\" fill=\"#000000\">X[1] &lt;= 154.5</text>\n<text text-anchor=\"middle\" x=\"1390\" y=\"-542.8\" font-family=\"Times,serif\" font-size=\"14.00\" fill=\"#000000\">entropy = 0.901</text>\n<text text-anchor=\"middle\" x=\"1390\" y=\"-527.8\" font-family=\"Times,serif\" font-size=\"14.00\" fill=\"#000000\">samples = 60</text>\n<text text-anchor=\"middle\" x=\"1390\" y=\"-512.8\" font-family=\"Times,serif\" font-size=\"14.00\" fill=\"#000000\">value = [19, 41]</text>\n</g>\n<!-- 38&#45;&gt;40 -->\n<g id=\"edge40\" class=\"edge\">\n<title>38&#45;&gt;40</title>\n<path fill=\"none\" stroke=\"#000000\" d=\"M1373.8585,-608.9465C1375.7647,-600.6863 1377.8298,-591.7374 1379.826,-583.0875\"/>\n<polygon fill=\"#000000\" stroke=\"#000000\" points=\"1383.2855,-583.6609 1382.1238,-573.13 1376.4648,-582.0869 1383.2855,-583.6609\"/>\n</g>\n<!-- 41 -->\n<g id=\"node42\" class=\"node\">\n<title>41</title>\n<polygon fill=\"#ffffff\" stroke=\"#000000\" points=\"1350.5,-469 1219.5,-469 1219.5,-401 1350.5,-401 1350.5,-469\"/>\n<text text-anchor=\"middle\" x=\"1285\" y=\"-453.8\" font-family=\"Times,serif\" font-size=\"14.00\" fill=\"#000000\">X[4] &lt;= 123.0</text>\n<text text-anchor=\"middle\" x=\"1285\" y=\"-438.8\" font-family=\"Times,serif\" font-size=\"14.00\" fill=\"#000000\">entropy = 1.0</text>\n<text text-anchor=\"middle\" x=\"1285\" y=\"-423.8\" font-family=\"Times,serif\" font-size=\"14.00\" fill=\"#000000\">samples = 26</text>\n<text text-anchor=\"middle\" x=\"1285\" y=\"-408.8\" font-family=\"Times,serif\" font-size=\"14.00\" fill=\"#000000\">value = [13, 13]</text>\n</g>\n<!-- 40&#45;&gt;41 -->\n<g id=\"edge41\" class=\"edge\">\n<title>40&#45;&gt;41</title>\n<path fill=\"none\" stroke=\"#000000\" d=\"M1355.6191,-504.9465C1346.3729,-495.7884 1336.2721,-485.7838 1326.6757,-476.2788\"/>\n<polygon fill=\"#000000\" stroke=\"#000000\" points=\"1329.026,-473.6805 1319.4582,-469.13 1324.1,-478.6539 1329.026,-473.6805\"/>\n</g>\n<!-- 50 -->\n<g id=\"node51\" class=\"node\">\n<title>50</title>\n<polygon fill=\"#63b2eb\" stroke=\"#000000\" points=\"1504,-469 1370,-469 1370,-401 1504,-401 1504,-469\"/>\n<text text-anchor=\"middle\" x=\"1437\" y=\"-453.8\" font-family=\"Times,serif\" font-size=\"14.00\" fill=\"#000000\">X[0] &lt;= 6.5</text>\n<text text-anchor=\"middle\" x=\"1437\" y=\"-438.8\" font-family=\"Times,serif\" font-size=\"14.00\" fill=\"#000000\">entropy = 0.672</text>\n<text text-anchor=\"middle\" x=\"1437\" y=\"-423.8\" font-family=\"Times,serif\" font-size=\"14.00\" fill=\"#000000\">samples = 34</text>\n<text text-anchor=\"middle\" x=\"1437\" y=\"-408.8\" font-family=\"Times,serif\" font-size=\"14.00\" fill=\"#000000\">value = [6, 28]</text>\n</g>\n<!-- 40&#45;&gt;50 -->\n<g id=\"edge50\" class=\"edge\">\n<title>40&#45;&gt;50</title>\n<path fill=\"none\" stroke=\"#000000\" d=\"M1405.3896,-504.9465C1409.2037,-496.5067 1413.3428,-487.3479 1417.3306,-478.5239\"/>\n<polygon fill=\"#000000\" stroke=\"#000000\" points=\"1420.647,-479.684 1421.5759,-469.13 1414.2682,-476.8013 1420.647,-479.684\"/>\n</g>\n<!-- 42 -->\n<g id=\"node43\" class=\"node\">\n<title>42</title>\n<polygon fill=\"#ea9a61\" stroke=\"#000000\" points=\"1199.5,-357.5 1074.5,-357.5 1074.5,-304.5 1199.5,-304.5 1199.5,-357.5\"/>\n<text text-anchor=\"middle\" x=\"1137\" y=\"-342.3\" font-family=\"Times,serif\" font-size=\"14.00\" fill=\"#000000\">entropy = 0.65</text>\n<text text-anchor=\"middle\" x=\"1137\" y=\"-327.3\" font-family=\"Times,serif\" font-size=\"14.00\" fill=\"#000000\">samples = 6</text>\n<text text-anchor=\"middle\" x=\"1137\" y=\"-312.3\" font-family=\"Times,serif\" font-size=\"14.00\" fill=\"#000000\">value = [5, 1]</text>\n</g>\n<!-- 41&#45;&gt;42 -->\n<g id=\"edge42\" class=\"edge\">\n<title>41&#45;&gt;42</title>\n<path fill=\"none\" stroke=\"#000000\" d=\"M1236.5393,-400.9465C1219.4535,-388.9403 1200.2972,-375.4791 1183.387,-363.5962\"/>\n<polygon fill=\"#000000\" stroke=\"#000000\" points=\"1184.9658,-360.428 1174.7715,-357.5422 1180.9412,-366.1553 1184.9658,-360.428\"/>\n</g>\n<!-- 43 -->\n<g id=\"node44\" class=\"node\">\n<title>43</title>\n<polygon fill=\"#bddef6\" stroke=\"#000000\" points=\"1352,-365 1218,-365 1218,-297 1352,-297 1352,-365\"/>\n<text text-anchor=\"middle\" x=\"1285\" y=\"-349.8\" font-family=\"Times,serif\" font-size=\"14.00\" fill=\"#000000\">X[7] &lt;= 42.5</text>\n<text text-anchor=\"middle\" x=\"1285\" y=\"-334.8\" font-family=\"Times,serif\" font-size=\"14.00\" fill=\"#000000\">entropy = 0.971</text>\n<text text-anchor=\"middle\" x=\"1285\" y=\"-319.8\" font-family=\"Times,serif\" font-size=\"14.00\" fill=\"#000000\">samples = 20</text>\n<text text-anchor=\"middle\" x=\"1285\" y=\"-304.8\" font-family=\"Times,serif\" font-size=\"14.00\" fill=\"#000000\">value = [8, 12]</text>\n</g>\n<!-- 41&#45;&gt;43 -->\n<g id=\"edge43\" class=\"edge\">\n<title>41&#45;&gt;43</title>\n<path fill=\"none\" stroke=\"#000000\" d=\"M1285,-400.9465C1285,-392.776 1285,-383.9318 1285,-375.3697\"/>\n<polygon fill=\"#000000\" stroke=\"#000000\" points=\"1288.5001,-375.13 1285,-365.13 1281.5001,-375.13 1288.5001,-375.13\"/>\n</g>\n<!-- 44 -->\n<g id=\"node45\" class=\"node\">\n<title>44</title>\n<polygon fill=\"#fcefe6\" stroke=\"#000000\" points=\"1213,-261 1079,-261 1079,-193 1213,-193 1213,-261\"/>\n<text text-anchor=\"middle\" x=\"1146\" y=\"-245.8\" font-family=\"Times,serif\" font-size=\"14.00\" fill=\"#000000\">X[0] &lt;= 7.5</text>\n<text text-anchor=\"middle\" x=\"1146\" y=\"-230.8\" font-family=\"Times,serif\" font-size=\"14.00\" fill=\"#000000\">entropy = 0.997</text>\n<text text-anchor=\"middle\" x=\"1146\" y=\"-215.8\" font-family=\"Times,serif\" font-size=\"14.00\" fill=\"#000000\">samples = 15</text>\n<text text-anchor=\"middle\" x=\"1146\" y=\"-200.8\" font-family=\"Times,serif\" font-size=\"14.00\" fill=\"#000000\">value = [8, 7]</text>\n</g>\n<!-- 43&#45;&gt;44 -->\n<g id=\"edge44\" class=\"edge\">\n<title>43&#45;&gt;44</title>\n<path fill=\"none\" stroke=\"#000000\" d=\"M1239.4862,-296.9465C1226.766,-287.4293 1212.824,-276.9978 1199.6794,-267.163\"/>\n<polygon fill=\"#000000\" stroke=\"#000000\" points=\"1201.7198,-264.3184 1191.6161,-261.13 1197.5262,-269.9232 1201.7198,-264.3184\"/>\n</g>\n<!-- 49 -->\n<g id=\"node50\" class=\"node\">\n<title>49</title>\n<polygon fill=\"#399de5\" stroke=\"#000000\" points=\"1347,-253.5 1231,-253.5 1231,-200.5 1347,-200.5 1347,-253.5\"/>\n<text text-anchor=\"middle\" x=\"1289\" y=\"-238.3\" font-family=\"Times,serif\" font-size=\"14.00\" fill=\"#000000\">entropy = 0.0</text>\n<text text-anchor=\"middle\" x=\"1289\" y=\"-223.3\" font-family=\"Times,serif\" font-size=\"14.00\" fill=\"#000000\">samples = 5</text>\n<text text-anchor=\"middle\" x=\"1289\" y=\"-208.3\" font-family=\"Times,serif\" font-size=\"14.00\" fill=\"#000000\">value = [0, 5]</text>\n</g>\n<!-- 43&#45;&gt;49 -->\n<g id=\"edge49\" class=\"edge\">\n<title>43&#45;&gt;49</title>\n<path fill=\"none\" stroke=\"#000000\" d=\"M1286.3097,-296.9465C1286.7207,-286.2621 1287.1759,-274.4254 1287.5933,-263.5742\"/>\n<polygon fill=\"#000000\" stroke=\"#000000\" points=\"1291.0921,-263.6693 1287.9791,-253.5422 1284.0973,-263.4002 1291.0921,-263.6693\"/>\n</g>\n<!-- 45 -->\n<g id=\"node46\" class=\"node\">\n<title>45</title>\n<polygon fill=\"#f0b78e\" stroke=\"#000000\" points=\"1195,-157 1061,-157 1061,-89 1195,-89 1195,-157\"/>\n<text text-anchor=\"middle\" x=\"1128\" y=\"-141.8\" font-family=\"Times,serif\" font-size=\"14.00\" fill=\"#000000\">X[3] &lt;= 28.5</text>\n<text text-anchor=\"middle\" x=\"1128\" y=\"-126.8\" font-family=\"Times,serif\" font-size=\"14.00\" fill=\"#000000\">entropy = 0.881</text>\n<text text-anchor=\"middle\" x=\"1128\" y=\"-111.8\" font-family=\"Times,serif\" font-size=\"14.00\" fill=\"#000000\">samples = 10</text>\n<text text-anchor=\"middle\" x=\"1128\" y=\"-96.8\" font-family=\"Times,serif\" font-size=\"14.00\" fill=\"#000000\">value = [7, 3]</text>\n</g>\n<!-- 44&#45;&gt;45 -->\n<g id=\"edge45\" class=\"edge\">\n<title>44&#45;&gt;45</title>\n<path fill=\"none\" stroke=\"#000000\" d=\"M1140.1061,-192.9465C1138.6765,-184.6863 1137.1276,-175.7374 1135.6305,-167.0875\"/>\n<polygon fill=\"#000000\" stroke=\"#000000\" points=\"1139.0613,-166.3866 1133.9071,-157.13 1132.1639,-167.5804 1139.0613,-166.3866\"/>\n</g>\n<!-- 48 -->\n<g id=\"node49\" class=\"node\">\n<title>48</title>\n<polygon fill=\"#6ab6ec\" stroke=\"#000000\" points=\"1347,-149.5 1213,-149.5 1213,-96.5 1347,-96.5 1347,-149.5\"/>\n<text text-anchor=\"middle\" x=\"1280\" y=\"-134.3\" font-family=\"Times,serif\" font-size=\"14.00\" fill=\"#000000\">entropy = 0.722</text>\n<text text-anchor=\"middle\" x=\"1280\" y=\"-119.3\" font-family=\"Times,serif\" font-size=\"14.00\" fill=\"#000000\">samples = 5</text>\n<text text-anchor=\"middle\" x=\"1280\" y=\"-104.3\" font-family=\"Times,serif\" font-size=\"14.00\" fill=\"#000000\">value = [1, 4]</text>\n</g>\n<!-- 44&#45;&gt;48 -->\n<g id=\"edge48\" class=\"edge\">\n<title>44&#45;&gt;48</title>\n<path fill=\"none\" stroke=\"#000000\" d=\"M1189.8766,-192.9465C1205.2043,-181.0504 1222.3723,-167.726 1237.5791,-155.9237\"/>\n<polygon fill=\"#000000\" stroke=\"#000000\" points=\"1240.0475,-158.4384 1245.8014,-149.5422 1235.7556,-152.9085 1240.0475,-158.4384\"/>\n</g>\n<!-- 46 -->\n<g id=\"node47\" class=\"node\">\n<title>46</title>\n<polygon fill=\"#f6d5bd\" stroke=\"#000000\" points=\"1119,-53 985,-53 985,0 1119,0 1119,-53\"/>\n<text text-anchor=\"middle\" x=\"1052\" y=\"-37.8\" font-family=\"Times,serif\" font-size=\"14.00\" fill=\"#000000\">entropy = 0.971</text>\n<text text-anchor=\"middle\" x=\"1052\" y=\"-22.8\" font-family=\"Times,serif\" font-size=\"14.00\" fill=\"#000000\">samples = 5</text>\n<text text-anchor=\"middle\" x=\"1052\" y=\"-7.8\" font-family=\"Times,serif\" font-size=\"14.00\" fill=\"#000000\">value = [3, 2]</text>\n</g>\n<!-- 45&#45;&gt;46 -->\n<g id=\"edge46\" class=\"edge\">\n<title>45&#45;&gt;46</title>\n<path fill=\"none\" stroke=\"#000000\" d=\"M1101.2052,-88.9777C1094.1378,-80.0039 1086.5024,-70.3089 1079.4033,-61.295\"/>\n<polygon fill=\"#000000\" stroke=\"#000000\" points=\"1082.003,-58.9391 1073.0662,-53.2485 1076.5037,-63.2701 1082.003,-58.9391\"/>\n</g>\n<!-- 47 -->\n<g id=\"node48\" class=\"node\">\n<title>47</title>\n<polygon fill=\"#eca06a\" stroke=\"#000000\" points=\"1271,-53 1137,-53 1137,0 1271,0 1271,-53\"/>\n<text text-anchor=\"middle\" x=\"1204\" y=\"-37.8\" font-family=\"Times,serif\" font-size=\"14.00\" fill=\"#000000\">entropy = 0.722</text>\n<text text-anchor=\"middle\" x=\"1204\" y=\"-22.8\" font-family=\"Times,serif\" font-size=\"14.00\" fill=\"#000000\">samples = 5</text>\n<text text-anchor=\"middle\" x=\"1204\" y=\"-7.8\" font-family=\"Times,serif\" font-size=\"14.00\" fill=\"#000000\">value = [4, 1]</text>\n</g>\n<!-- 45&#45;&gt;47 -->\n<g id=\"edge47\" class=\"edge\">\n<title>45&#45;&gt;47</title>\n<path fill=\"none\" stroke=\"#000000\" d=\"M1154.7948,-88.9777C1161.8622,-80.0039 1169.4976,-70.3089 1176.5967,-61.295\"/>\n<polygon fill=\"#000000\" stroke=\"#000000\" points=\"1179.4963,-63.2701 1182.9338,-53.2485 1173.997,-58.9391 1179.4963,-63.2701\"/>\n</g>\n<!-- 51 -->\n<g id=\"node52\" class=\"node\">\n<title>51</title>\n<polygon fill=\"#88c4ef\" stroke=\"#000000\" points=\"1504,-365 1370,-365 1370,-297 1504,-297 1504,-365\"/>\n<text text-anchor=\"middle\" x=\"1437\" y=\"-349.8\" font-family=\"Times,serif\" font-size=\"14.00\" fill=\"#000000\">X[3] &lt;= 24.0</text>\n<text text-anchor=\"middle\" x=\"1437\" y=\"-334.8\" font-family=\"Times,serif\" font-size=\"14.00\" fill=\"#000000\">entropy = 0.863</text>\n<text text-anchor=\"middle\" x=\"1437\" y=\"-319.8\" font-family=\"Times,serif\" font-size=\"14.00\" fill=\"#000000\">samples = 21</text>\n<text text-anchor=\"middle\" x=\"1437\" y=\"-304.8\" font-family=\"Times,serif\" font-size=\"14.00\" fill=\"#000000\">value = [6, 15]</text>\n</g>\n<!-- 50&#45;&gt;51 -->\n<g id=\"edge51\" class=\"edge\">\n<title>50&#45;&gt;51</title>\n<path fill=\"none\" stroke=\"#000000\" d=\"M1437,-400.9465C1437,-392.776 1437,-383.9318 1437,-375.3697\"/>\n<polygon fill=\"#000000\" stroke=\"#000000\" points=\"1440.5001,-375.13 1437,-365.13 1433.5001,-375.13 1440.5001,-375.13\"/>\n</g>\n<!-- 56 -->\n<g id=\"node57\" class=\"node\">\n<title>56</title>\n<polygon fill=\"#399de5\" stroke=\"#000000\" points=\"1644,-357.5 1522,-357.5 1522,-304.5 1644,-304.5 1644,-357.5\"/>\n<text text-anchor=\"middle\" x=\"1583\" y=\"-342.3\" font-family=\"Times,serif\" font-size=\"14.00\" fill=\"#000000\">entropy = 0.0</text>\n<text text-anchor=\"middle\" x=\"1583\" y=\"-327.3\" font-family=\"Times,serif\" font-size=\"14.00\" fill=\"#000000\">samples = 13</text>\n<text text-anchor=\"middle\" x=\"1583\" y=\"-312.3\" font-family=\"Times,serif\" font-size=\"14.00\" fill=\"#000000\">value = [0, 13]</text>\n</g>\n<!-- 50&#45;&gt;56 -->\n<g id=\"edge56\" class=\"edge\">\n<title>50&#45;&gt;56</title>\n<path fill=\"none\" stroke=\"#000000\" d=\"M1484.8059,-400.9465C1501.6608,-388.9403 1520.5581,-375.4791 1537.2399,-363.5962\"/>\n<polygon fill=\"#000000\" stroke=\"#000000\" points=\"1539.6247,-366.1947 1545.7389,-357.5422 1535.5633,-360.4933 1539.6247,-366.1947\"/>\n</g>\n<!-- 52 -->\n<g id=\"node53\" class=\"node\">\n<title>52</title>\n<polygon fill=\"#399de5\" stroke=\"#000000\" points=\"1490,-253.5 1374,-253.5 1374,-200.5 1490,-200.5 1490,-253.5\"/>\n<text text-anchor=\"middle\" x=\"1432\" y=\"-238.3\" font-family=\"Times,serif\" font-size=\"14.00\" fill=\"#000000\">entropy = 0.0</text>\n<text text-anchor=\"middle\" x=\"1432\" y=\"-223.3\" font-family=\"Times,serif\" font-size=\"14.00\" fill=\"#000000\">samples = 5</text>\n<text text-anchor=\"middle\" x=\"1432\" y=\"-208.3\" font-family=\"Times,serif\" font-size=\"14.00\" fill=\"#000000\">value = [0, 5]</text>\n</g>\n<!-- 51&#45;&gt;52 -->\n<g id=\"edge52\" class=\"edge\">\n<title>51&#45;&gt;52</title>\n<path fill=\"none\" stroke=\"#000000\" d=\"M1435.3628,-296.9465C1434.8491,-286.2621 1434.2801,-274.4254 1433.7584,-263.5742\"/>\n<polygon fill=\"#000000\" stroke=\"#000000\" points=\"1437.2523,-263.3625 1433.2761,-253.5422 1430.2604,-263.6987 1437.2523,-263.3625\"/>\n</g>\n<!-- 53 -->\n<g id=\"node54\" class=\"node\">\n<title>53</title>\n<polygon fill=\"#b0d8f5\" stroke=\"#000000\" points=\"1642,-261 1508,-261 1508,-193 1642,-193 1642,-261\"/>\n<text text-anchor=\"middle\" x=\"1575\" y=\"-245.8\" font-family=\"Times,serif\" font-size=\"14.00\" fill=\"#000000\">X[1] &lt;= 174.5</text>\n<text text-anchor=\"middle\" x=\"1575\" y=\"-230.8\" font-family=\"Times,serif\" font-size=\"14.00\" fill=\"#000000\">entropy = 0.954</text>\n<text text-anchor=\"middle\" x=\"1575\" y=\"-215.8\" font-family=\"Times,serif\" font-size=\"14.00\" fill=\"#000000\">samples = 16</text>\n<text text-anchor=\"middle\" x=\"1575\" y=\"-200.8\" font-family=\"Times,serif\" font-size=\"14.00\" fill=\"#000000\">value = [6, 10]</text>\n</g>\n<!-- 51&#45;&gt;53 -->\n<g id=\"edge53\" class=\"edge\">\n<title>51&#45;&gt;53</title>\n<path fill=\"none\" stroke=\"#000000\" d=\"M1482.1864,-296.9465C1494.815,-287.4293 1508.6567,-276.9978 1521.7068,-267.163\"/>\n<polygon fill=\"#000000\" stroke=\"#000000\" points=\"1523.8325,-269.9437 1529.7121,-261.13 1519.6195,-264.3534 1523.8325,-269.9437\"/>\n</g>\n<!-- 54 -->\n<g id=\"node55\" class=\"node\">\n<title>54</title>\n<polygon fill=\"#f8e0ce\" stroke=\"#000000\" points=\"1570,-149.5 1436,-149.5 1436,-96.5 1570,-96.5 1570,-149.5\"/>\n<text text-anchor=\"middle\" x=\"1503\" y=\"-134.3\" font-family=\"Times,serif\" font-size=\"14.00\" fill=\"#000000\">entropy = 0.985</text>\n<text text-anchor=\"middle\" x=\"1503\" y=\"-119.3\" font-family=\"Times,serif\" font-size=\"14.00\" fill=\"#000000\">samples = 7</text>\n<text text-anchor=\"middle\" x=\"1503\" y=\"-104.3\" font-family=\"Times,serif\" font-size=\"14.00\" fill=\"#000000\">value = [4, 3]</text>\n</g>\n<!-- 53&#45;&gt;54 -->\n<g id=\"edge54\" class=\"edge\">\n<title>53&#45;&gt;54</title>\n<path fill=\"none\" stroke=\"#000000\" d=\"M1551.4245,-192.9465C1543.6463,-181.7113 1534.9861,-169.2021 1527.1645,-157.9043\"/>\n<polygon fill=\"#000000\" stroke=\"#000000\" points=\"1529.9452,-155.7719 1521.3753,-149.5422 1524.1898,-159.7564 1529.9452,-155.7719\"/>\n</g>\n<!-- 55 -->\n<g id=\"node56\" class=\"node\">\n<title>55</title>\n<polygon fill=\"#72b9ec\" stroke=\"#000000\" points=\"1722,-149.5 1588,-149.5 1588,-96.5 1722,-96.5 1722,-149.5\"/>\n<text text-anchor=\"middle\" x=\"1655\" y=\"-134.3\" font-family=\"Times,serif\" font-size=\"14.00\" fill=\"#000000\">entropy = 0.764</text>\n<text text-anchor=\"middle\" x=\"1655\" y=\"-119.3\" font-family=\"Times,serif\" font-size=\"14.00\" fill=\"#000000\">samples = 9</text>\n<text text-anchor=\"middle\" x=\"1655\" y=\"-104.3\" font-family=\"Times,serif\" font-size=\"14.00\" fill=\"#000000\">value = [2, 7]</text>\n</g>\n<!-- 53&#45;&gt;55 -->\n<g id=\"edge55\" class=\"edge\">\n<title>53&#45;&gt;55</title>\n<path fill=\"none\" stroke=\"#000000\" d=\"M1601.195,-192.9465C1609.9222,-181.6012 1619.6487,-168.9567 1628.4059,-157.5724\"/>\n<polygon fill=\"#000000\" stroke=\"#000000\" points=\"1631.26,-159.6024 1634.583,-149.5422 1625.7116,-155.3344 1631.26,-159.6024\"/>\n</g>\n</g>\n</svg>\n"
     },
     "metadata": {}
    }
   ],
   "execution_count": null
  },
  {
   "cell_type": "markdown",
   "source": "#### Use the graph above to answer the questions below",
   "metadata": {
    "colab_type": "text",
    "id": "4iz4meWDVmo2",
    "cell_id": "00018-d531e6b3-0be6-4593-911a-1697ac904853",
    "deepnote_cell_type": "markdown"
   }
  },
  {
   "cell_type": "markdown",
   "source": "Question 1: What do you think X[n] represents in the nodes from the graph?\n\nThey represents different features used in the decision process.",
   "metadata": {
    "colab_type": "text",
    "id": "u1yM9h10WUEv",
    "cell_id": "00019-51773616-e8a0-44ba-9e36-d70097fa5655",
    "deepnote_cell_type": "markdown"
   }
  },
  {
   "cell_type": "markdown",
   "source": "Question 2: What is the root feature? Does it make sense as the root feature?\n\nThe root feature is plas. It was selected because of its entropy score, so it makes sense as the root feature because it has the highest entropy score.",
   "metadata": {
    "colab_type": "text",
    "id": "rA7B0oTaWUIe",
    "cell_id": "00020-2deceefe-565a-4b18-8401-7c83ec9bda5e",
    "deepnote_cell_type": "markdown"
   }
  },
  {
   "cell_type": "markdown",
   "source": "Question 3: If you were to change the parameters to have a max_depth of 500 and min_samples_leaf of 1, what do you think the effect would be on the test accuracy? Training accuracy?\n\nThe training accuracy should be 100%, but the test accuracy might be relatively low.",
   "metadata": {
    "colab_type": "text",
    "id": "1t559pS3ZHES",
    "cell_id": "00021-e29e7b88-9eaf-4236-8c1d-c18d93258c0b",
    "deepnote_cell_type": "markdown"
   }
  },
  {
   "cell_type": "markdown",
   "source": "**Test your guesses, create a model with max_depth=500 and min_samples_leaf=1, and predict values for the training and validation data**",
   "metadata": {
    "colab_type": "text",
    "id": "7dnlqId2bIcR",
    "cell_id": "00022-ed72e79c-1fb3-44cb-b533-d47d428bf747",
    "deepnote_cell_type": "markdown"
   }
  },
  {
   "cell_type": "code",
   "metadata": {
    "colab": {
     "autoexec": {
      "startup": false,
      "wait_interval": 0
     },
     "base_uri": "https://localhost:8080/",
     "height": 17
    },
    "colab_type": "code",
    "executionInfo": {
     "elapsed": 235,
     "status": "ok",
     "timestamp": 1530627843330,
     "user": {
      "displayName": "john passarelli",
      "photoUrl": "https://lh3.googleusercontent.com/a/default-user=s128",
      "userId": "102241934905781120798"
     },
     "user_tz": 240
    },
    "id": "hnUQKX9vl9Gy",
    "outputId": "ebaa5e52-a33f-4749-a3f6-6a3fde24da1f",
    "cell_id": "00023-49fb46da-e9bc-4bf3-a37f-ba7898041e16",
    "deepnote_to_be_reexecuted": false,
    "source_hash": "b49978b8",
    "execution_start": 1625688158072,
    "execution_millis": 45,
    "deepnote_cell_type": "code"
   },
   "source": "## YOUR CODE HERE\ndecision_tree = DecisionTreeClassifier(criterion = \"entropy\", random_state = None, max_depth=500, min_samples_leaf=1)\ndecision_tree.fit(X_train, y_train)\ny_train_pred=decision_tree.predict(X_train)\nprint(\"Training Accuracy is \", accuracy_score(y_train, y_train_pred)*100)\ny_val_pred=decision_tree.predict(X_val)\nprint(\"Validation Accuracy is \", accuracy_score(y_val,y_val_pred)*100)",
   "outputs": [
    {
     "name": "stdout",
     "text": "Training Accuracy is  100.0\nValidation Accuracy is  80.95238095238095\n",
     "output_type": "stream"
    }
   ],
   "execution_count": null
  },
  {
   "cell_type": "markdown",
   "source": "# Random Forest",
   "metadata": {
    "colab_type": "text",
    "id": "40Psyt65pD8p",
    "cell_id": "00024-f6243122-11c3-4e0e-b411-2261dd2a6ce6",
    "deepnote_cell_type": "markdown"
   }
  },
  {
   "cell_type": "markdown",
   "source": "## Creating Model\n\nCreate a model with sklearn's RandomForestClassifier and predict values on your validation set.",
   "metadata": {
    "colab_type": "text",
    "id": "mjLu1MLIpGNF",
    "cell_id": "00025-9ac59e6e-64f7-43cb-9dc9-ee4523ef3599",
    "deepnote_cell_type": "markdown"
   }
  },
  {
   "cell_type": "code",
   "metadata": {
    "colab": {
     "autoexec": {
      "startup": false,
      "wait_interval": 0
     },
     "base_uri": "https://localhost:8080/",
     "height": 37
    },
    "colab_type": "code",
    "executionInfo": {
     "elapsed": 318,
     "status": "ok",
     "timestamp": 1530627847311,
     "user": {
      "displayName": "john passarelli",
      "photoUrl": "https://lh3.googleusercontent.com/a/default-user=s128",
      "userId": "102241934905781120798"
     },
     "user_tz": 240
    },
    "id": "TYwbpWxUfDIY",
    "outputId": "0008a18f-a9e3-4c04-b42e-adc8ce9aa966",
    "cell_id": "00026-de694ae1-f14e-428e-a672-14f3cfa91f97",
    "deepnote_to_be_reexecuted": false,
    "source_hash": "74792dc5",
    "execution_start": 1625688158121,
    "execution_millis": 388,
    "deepnote_cell_type": "code"
   },
   "source": "## YOUR CODE HERE\nrandom_forest = RandomForestClassifier(n_estimators=100)\nrandom_forest.fit(X_train, y_train)",
   "outputs": [
    {
     "output_type": "execute_result",
     "execution_count": 10,
     "data": {
      "text/plain": "RandomForestClassifier()"
     },
     "metadata": {}
    }
   ],
   "execution_count": null
  },
  {
   "cell_type": "markdown",
   "source": "Print accuracy of training and validation data.",
   "metadata": {
    "colab_type": "text",
    "id": "6Ys_J3O4pd0u",
    "cell_id": "00027-37ee0acc-7ffe-4b8a-b287-d02e0827e18e",
    "deepnote_cell_type": "markdown"
   }
  },
  {
   "cell_type": "code",
   "metadata": {
    "colab": {
     "autoexec": {
      "startup": false,
      "wait_interval": 0
     },
     "base_uri": "https://localhost:8080/",
     "height": 17
    },
    "colab_type": "code",
    "executionInfo": {
     "elapsed": 337,
     "status": "ok",
     "timestamp": 1530627851278,
     "user": {
      "displayName": "john passarelli",
      "photoUrl": "https://lh3.googleusercontent.com/a/default-user=s128",
      "userId": "102241934905781120798"
     },
     "user_tz": 240
    },
    "id": "aQdfjEWdfDOH",
    "outputId": "751008b5-156c-4bea-d599-37f84bd1b60c",
    "cell_id": "00028-6dc8051a-5dab-40fd-8577-1a964ad85ec1",
    "deepnote_to_be_reexecuted": false,
    "source_hash": "5b0f9d0f",
    "execution_start": 1625688158504,
    "execution_millis": 113,
    "deepnote_cell_type": "code"
   },
   "source": "## YOUR CODE HERE\ny_train_pred=random_forest.predict(X_train)\nprint(\"Training Accuracy is \", accuracy_score(y_train, y_train_pred)*100)\ny_val_pred=random_forest.predict(X_val)\nprint(\"Validation Accuracy is \", accuracy_score(y_val,y_val_pred)*100)",
   "outputs": [
    {
     "name": "stdout",
     "text": "Training Accuracy is  100.0\nValidation Accuracy is  79.36507936507937\n",
     "output_type": "stream"
    }
   ],
   "execution_count": null
  },
  {
   "cell_type": "markdown",
   "source": "How did the accuracy compare to the decision tree's accuracy?\n\nRandom forest had a higher training accuracy and validation accuracy than the decision tree.",
   "metadata": {
    "cell_id": "00029-e39ef078-6e30-45dd-926b-bbb507b140eb",
    "deepnote_cell_type": "markdown"
   }
  },
  {
   "cell_type": "markdown",
   "source": "Print the 3 most important features (hint: sklearn has an attribute to help you find these)",
   "metadata": {
    "colab_type": "text",
    "id": "jGlSHxuUqAnX",
    "cell_id": "00030-5e94d202-3299-4773-8fe0-f4448bcb9862",
    "deepnote_cell_type": "markdown"
   }
  },
  {
   "cell_type": "code",
   "metadata": {
    "colab": {
     "autoexec": {
      "startup": false,
      "wait_interval": 0
     },
     "base_uri": "https://localhost:8080/",
     "height": 17
    },
    "colab_type": "code",
    "executionInfo": {
     "elapsed": 448,
     "status": "ok",
     "timestamp": 1530627855691,
     "user": {
      "displayName": "john passarelli",
      "photoUrl": "https://lh3.googleusercontent.com/a/default-user=s128",
      "userId": "102241934905781120798"
     },
     "user_tz": 240
    },
    "id": "5rVekWn0qw3r",
    "outputId": "d5e516d3-4f91-4394-b2e5-f26427b404ef",
    "cell_id": "00031-8c53bed0-f3ad-4d2c-9d15-a2d331c52695",
    "deepnote_to_be_reexecuted": false,
    "source_hash": "9ef55278",
    "execution_start": 1625696497003,
    "execution_millis": 25,
    "deepnote_cell_type": "code"
   },
   "source": "## YOUR CODE HERE\n\nimportance = random_forest.feature_importances_\n# summarize feature importance\nfor i,v in enumerate(importance):\n\tprint('Feature: %0d, Score: %.5f' % (i,v))\n\nprint(str(1) + \" \" + str(4) + \" \" + str(7))",
   "outputs": [
    {
     "name": "stdout",
     "text": "Feature: 0, Score: 0.07991\nFeature: 1, Score: 0.25612\nFeature: 2, Score: 0.07224\nFeature: 3, Score: 0.08371\nFeature: 4, Score: 0.15844\nFeature: 5, Score: 0.10980\nFeature: 6, Score: 0.11081\nFeature: 7, Score: 0.12898\n1 4 7\n",
     "output_type": "stream"
    }
   ],
   "execution_count": null
  },
  {
   "cell_type": "code",
   "source": "data.corr()",
   "metadata": {
    "tags": [],
    "cell_id": "00032-0bfcaded-ec4c-4411-b2f0-864cb105edc4",
    "deepnote_to_be_reexecuted": false,
    "source_hash": "d0fc2601",
    "execution_start": 1625689402247,
    "execution_millis": 50,
    "deepnote_cell_type": "code"
   },
   "outputs": [
    {
     "output_type": "execute_result",
     "execution_count": 20,
     "data": {
      "application/vnd.deepnote.dataframe.v2+json": {
       "row_count": 9,
       "column_count": 9,
       "columns": [
        {
         "name": "preg",
         "dtype": "float64",
         "stats": {
          "unique_count": 9,
          "nan_count": 0,
          "min": "-0.02534727605604625",
          "max": "1.0",
          "histogram": [
           {
            "bin_start": -0.02534727605604625,
            "bin_end": 0.07718745154955838,
            "count": 2
           },
           {
            "bin_start": 0.07718745154955838,
            "bin_end": 0.179722179155163,
            "count": 2
           },
           {
            "bin_start": 0.179722179155163,
            "bin_end": 0.28225690676076765,
            "count": 3
           },
           {
            "bin_start": 0.28225690676076765,
            "bin_end": 0.38479163436637226,
            "count": 0
           },
           {
            "bin_start": 0.38479163436637226,
            "bin_end": 0.4873263619719769,
            "count": 0
           },
           {
            "bin_start": 0.4873263619719769,
            "bin_end": 0.5898610895775815,
            "count": 0
           },
           {
            "bin_start": 0.5898610895775815,
            "bin_end": 0.6923958171831861,
            "count": 1
           },
           {
            "bin_start": 0.6923958171831861,
            "bin_end": 0.7949305447887908,
            "count": 0
           },
           {
            "bin_start": 0.7949305447887908,
            "bin_end": 0.8974652723943954,
            "count": 0
           },
           {
            "bin_start": 0.8974652723943954,
            "bin_end": 1,
            "count": 1
           }
          ]
         }
        },
        {
         "name": "plas",
         "dtype": "float64",
         "stats": {
          "unique_count": 9,
          "nan_count": 0,
          "min": "0.14018017990769047",
          "max": "1.0",
          "histogram": [
           {
            "bin_start": 0.14018017990769047,
            "bin_end": 0.2261621619169214,
            "count": 5
           },
           {
            "bin_start": 0.2261621619169214,
            "bin_end": 0.31214414392615236,
            "count": 0
           },
           {
            "bin_start": 0.31214414392615236,
            "bin_end": 0.3981261259353833,
            "count": 1
           },
           {
            "bin_start": 0.3981261259353833,
            "bin_end": 0.48410810794461423,
            "count": 0
           },
           {
            "bin_start": 0.48410810794461423,
            "bin_end": 0.5700900899538452,
            "count": 1
           },
           {
            "bin_start": 0.5700900899538452,
            "bin_end": 0.6560720719630762,
            "count": 1
           },
           {
            "bin_start": 0.6560720719630762,
            "bin_end": 0.7420540539723072,
            "count": 0
           },
           {
            "bin_start": 0.7420540539723072,
            "bin_end": 0.8280360359815381,
            "count": 0
           },
           {
            "bin_start": 0.8280360359815381,
            "bin_end": 0.914018017990769,
            "count": 0
           },
           {
            "bin_start": 0.914018017990769,
            "bin_end": 1,
            "count": 1
           }
          ]
         }
        },
        {
         "name": "pres",
         "dtype": "float64",
         "stats": {
          "unique_count": 9,
          "nan_count": 0,
          "min": "-0.01597110350582244",
          "max": "1.0",
          "histogram": [
           {
            "bin_start": -0.01597110350582244,
            "bin_end": 0.08562600684475981,
            "count": 1
           },
           {
            "bin_start": 0.08562600684475981,
            "bin_end": 0.18722311719534207,
            "count": 1
           },
           {
            "bin_start": 0.18722311719534207,
            "bin_end": 0.2888202275459243,
            "count": 4
           },
           {
            "bin_start": 0.2888202275459243,
            "bin_end": 0.39041733789650657,
            "count": 2
           },
           {
            "bin_start": 0.39041733789650657,
            "bin_end": 0.49201444824708884,
            "count": 0
           },
           {
            "bin_start": 0.49201444824708884,
            "bin_end": 0.593611558597671,
            "count": 0
           },
           {
            "bin_start": 0.593611558597671,
            "bin_end": 0.6952086689482533,
            "count": 0
           },
           {
            "bin_start": 0.6952086689482533,
            "bin_end": 0.7968057792988356,
            "count": 0
           },
           {
            "bin_start": 0.7968057792988356,
            "bin_end": 0.8984028896494178,
            "count": 0
           },
           {
            "bin_start": 0.8984028896494178,
            "bin_end": 1,
            "count": 1
           }
          ]
         }
        },
        {
         "name": "skin",
         "dtype": "float64",
         "stats": {
          "unique_count": 9,
          "nan_count": 0,
          "min": "0.09320939740545235",
          "max": "1.0",
          "histogram": [
           {
            "bin_start": 0.09320939740545235,
            "bin_end": 0.18388845766490713,
            "count": 4
           },
           {
            "bin_start": 0.18388845766490713,
            "bin_end": 0.2745675179243619,
            "count": 3
           },
           {
            "bin_start": 0.2745675179243619,
            "bin_end": 0.3652465781838167,
            "count": 0
           },
           {
            "bin_start": 0.3652465781838167,
            "bin_end": 0.45592563844327144,
            "count": 0
           },
           {
            "bin_start": 0.45592563844327144,
            "bin_end": 0.5466046987027262,
            "count": 0
           },
           {
            "bin_start": 0.5466046987027262,
            "bin_end": 0.6372837589621809,
            "count": 0
           },
           {
            "bin_start": 0.6372837589621809,
            "bin_end": 0.7279628192216357,
            "count": 1
           },
           {
            "bin_start": 0.7279628192216357,
            "bin_end": 0.8186418794810905,
            "count": 0
           },
           {
            "bin_start": 0.8186418794810905,
            "bin_end": 0.9093209397405452,
            "count": 0
           },
           {
            "bin_start": 0.9093209397405452,
            "bin_end": 1,
            "count": 1
           }
          ]
         }
        },
        {
         "name": "test",
         "dtype": "float64",
         "stats": {
          "unique_count": 9,
          "nan_count": 0,
          "min": "0.07898362510990958",
          "max": "1.0",
          "histogram": [
           {
            "bin_start": 0.07898362510990958,
            "bin_end": 0.17108526259891862,
            "count": 3
           },
           {
            "bin_start": 0.17108526259891862,
            "bin_end": 0.26318690008792767,
            "count": 3
           },
           {
            "bin_start": 0.26318690008792767,
            "bin_end": 0.35528853757693674,
            "count": 1
           },
           {
            "bin_start": 0.35528853757693674,
            "bin_end": 0.44739017506594575,
            "count": 0
           },
           {
            "bin_start": 0.44739017506594575,
            "bin_end": 0.5394918125549548,
            "count": 0
           },
           {
            "bin_start": 0.5394918125549548,
            "bin_end": 0.6315934500439639,
            "count": 1
           },
           {
            "bin_start": 0.6315934500439639,
            "bin_end": 0.7236950875329728,
            "count": 0
           },
           {
            "bin_start": 0.7236950875329728,
            "bin_end": 0.815796725021982,
            "count": 0
           },
           {
            "bin_start": 0.815796725021982,
            "bin_end": 0.9078983625109909,
            "count": 0
           },
           {
            "bin_start": 0.9078983625109909,
            "bin_end": 1,
            "count": 1
           }
          ]
         }
        },
        {
         "name": "mass",
         "dtype": "float64",
         "stats": {
          "unique_count": 9,
          "nan_count": 0,
          "min": "-0.02534727605604625",
          "max": "1.0",
          "histogram": [
           {
            "bin_start": -0.02534727605604625,
            "bin_end": 0.07718745154955838,
            "count": 2
           },
           {
            "bin_start": 0.07718745154955838,
            "bin_end": 0.179722179155163,
            "count": 1
           },
           {
            "bin_start": 0.179722179155163,
            "bin_end": 0.28225690676076765,
            "count": 3
           },
           {
            "bin_start": 0.28225690676076765,
            "bin_end": 0.38479163436637226,
            "count": 1
           },
           {
            "bin_start": 0.38479163436637226,
            "bin_end": 0.4873263619719769,
            "count": 0
           },
           {
            "bin_start": 0.4873263619719769,
            "bin_end": 0.5898610895775815,
            "count": 0
           },
           {
            "bin_start": 0.5898610895775815,
            "bin_end": 0.6923958171831861,
            "count": 1
           },
           {
            "bin_start": 0.6923958171831861,
            "bin_end": 0.7949305447887908,
            "count": 0
           },
           {
            "bin_start": 0.7949305447887908,
            "bin_end": 0.8974652723943954,
            "count": 0
           },
           {
            "bin_start": 0.8974652723943954,
            "bin_end": 1,
            "count": 1
           }
          ]
         }
        },
        {
         "name": "pedi",
         "dtype": "float64",
         "stats": {
          "unique_count": 9,
          "nan_count": 0,
          "min": "-0.01597110350582244",
          "max": "1.0",
          "histogram": [
           {
            "bin_start": -0.01597110350582244,
            "bin_end": 0.08562600684475981,
            "count": 3
           },
           {
            "bin_start": 0.08562600684475981,
            "bin_end": 0.18722311719534207,
            "count": 4
           },
           {
            "bin_start": 0.18722311719534207,
            "bin_end": 0.2888202275459243,
            "count": 1
           },
           {
            "bin_start": 0.2888202275459243,
            "bin_end": 0.39041733789650657,
            "count": 0
           },
           {
            "bin_start": 0.39041733789650657,
            "bin_end": 0.49201444824708884,
            "count": 0
           },
           {
            "bin_start": 0.49201444824708884,
            "bin_end": 0.593611558597671,
            "count": 0
           },
           {
            "bin_start": 0.593611558597671,
            "bin_end": 0.6952086689482533,
            "count": 0
           },
           {
            "bin_start": 0.6952086689482533,
            "bin_end": 0.7968057792988356,
            "count": 0
           },
           {
            "bin_start": 0.7968057792988356,
            "bin_end": 0.8984028896494178,
            "count": 0
           },
           {
            "bin_start": 0.8984028896494178,
            "bin_end": 1,
            "count": 1
           }
          ]
         }
        },
        {
         "name": "age",
         "dtype": "float64",
         "stats": {
          "unique_count": 9,
          "nan_count": 0,
          "min": "0.0698137985786792",
          "max": "1.0",
          "histogram": [
           {
            "bin_start": 0.0698137985786792,
            "bin_end": 0.16283241872081128,
            "count": 2
           },
           {
            "bin_start": 0.16283241872081128,
            "bin_end": 0.25585103886294336,
            "count": 2
           },
           {
            "bin_start": 0.25585103886294336,
            "bin_end": 0.34886965900507544,
            "count": 2
           },
           {
            "bin_start": 0.34886965900507544,
            "bin_end": 0.4418882791472075,
            "count": 1
           },
           {
            "bin_start": 0.4418882791472075,
            "bin_end": 0.5349068992893395,
            "count": 0
           },
           {
            "bin_start": 0.5349068992893395,
            "bin_end": 0.6279255194314717,
            "count": 0
           },
           {
            "bin_start": 0.6279255194314717,
            "bin_end": 0.7209441395736037,
            "count": 1
           },
           {
            "bin_start": 0.7209441395736037,
            "bin_end": 0.8139627597157358,
            "count": 0
           },
           {
            "bin_start": 0.8139627597157358,
            "bin_end": 0.906981379857868,
            "count": 0
           },
           {
            "bin_start": 0.906981379857868,
            "bin_end": 1,
            "count": 1
           }
          ]
         }
        },
        {
         "name": "class",
         "dtype": "float64",
         "stats": {
          "unique_count": 9,
          "nan_count": 0,
          "min": "0.1926732690966535",
          "max": "1.0",
          "histogram": [
           {
            "bin_start": 0.1926732690966535,
            "bin_end": 0.27340594218698816,
            "count": 5
           },
           {
            "bin_start": 0.27340594218698816,
            "bin_end": 0.3541386152773228,
            "count": 2
           },
           {
            "bin_start": 0.3541386152773228,
            "bin_end": 0.4348712883676574,
            "count": 0
           },
           {
            "bin_start": 0.4348712883676574,
            "bin_end": 0.5156039614579921,
            "count": 0
           },
           {
            "bin_start": 0.5156039614579921,
            "bin_end": 0.5963366345483267,
            "count": 1
           },
           {
            "bin_start": 0.5963366345483267,
            "bin_end": 0.6770693076386614,
            "count": 0
           },
           {
            "bin_start": 0.6770693076386614,
            "bin_end": 0.7578019807289961,
            "count": 0
           },
           {
            "bin_start": 0.7578019807289961,
            "bin_end": 0.8385346538193307,
            "count": 0
           },
           {
            "bin_start": 0.8385346538193307,
            "bin_end": 0.9192673269096653,
            "count": 0
           },
           {
            "bin_start": 0.9192673269096653,
            "bin_end": 1,
            "count": 1
           }
          ]
         }
        },
        {
         "name": "_deepnote_index_column",
         "dtype": "object"
        }
       ],
       "rows_top": [
        {
         "preg": 1,
         "plas": 0.19829104308052062,
         "pres": 0.21335477472245082,
         "skin": 0.09320939740545235,
         "test": 0.07898362510990958,
         "mass": -0.02534727605604625,
         "pedi": 0.007562116438437548,
         "age": 0.6796084703853128,
         "class": 0.2565659558914167,
         "_deepnote_index_column": "preg"
        },
        {
         "preg": 0.19829104308052062,
         "plas": 1,
         "pres": 0.21002657364775346,
         "skin": 0.19885581885227446,
         "test": 0.5812230123542537,
         "mass": 0.20951591881842835,
         "pedi": 0.14018017990769047,
         "age": 0.34364149991026505,
         "class": 0.5157027324140475,
         "_deepnote_index_column": "plas"
        },
        {
         "preg": 0.21335477472245082,
         "plas": 0.21002657364775346,
         "pres": 1,
         "skin": 0.23257118913532587,
         "test": 0.09851150312787152,
         "mass": 0.30440336850360017,
         "pedi": -0.01597110350582244,
         "age": 0.30003894627879313,
         "class": 0.1926732690966535,
         "_deepnote_index_column": "pres"
        },
        {
         "preg": 0.09320939740545235,
         "plas": 0.19885581885227446,
         "pres": 0.23257118913532587,
         "skin": 1,
         "test": 0.18219906133856992,
         "mass": 0.6643548666929336,
         "pedi": 0.16049852633674927,
         "age": 0.1677611415016031,
         "class": 0.25593565847298966,
         "_deepnote_index_column": "skin"
        },
        {
         "preg": 0.07898362510990958,
         "plas": 0.5812230123542537,
         "pres": 0.09851150312787152,
         "skin": 0.18219906133856992,
         "test": 1,
         "mass": 0.2263965177449757,
         "pedi": 0.13590578113752128,
         "age": 0.21708199090471653,
         "class": 0.30142921904914405,
         "_deepnote_index_column": "test"
        },
        {
         "preg": -0.02534727605604625,
         "plas": 0.20951591881842835,
         "pres": 0.30440336850360017,
         "skin": 0.6643548666929336,
         "test": 0.2263965177449757,
         "mass": 1,
         "pedi": 0.15877104319825325,
         "age": 0.0698137985786792,
         "class": 0.270118409404338,
         "_deepnote_index_column": "mass"
        },
        {
         "preg": 0.007562116438437548,
         "plas": 0.14018017990769047,
         "pres": -0.01597110350582244,
         "skin": 0.16049852633674927,
         "test": 0.13590578113752128,
         "mass": 0.15877104319825325,
         "pedi": 1,
         "age": 0.08502910583181741,
         "class": 0.2093295108751476,
         "_deepnote_index_column": "pedi"
        },
        {
         "preg": 0.6796084703853128,
         "plas": 0.34364149991026505,
         "pres": 0.30003894627879313,
         "skin": 0.1677611415016031,
         "test": 0.21708199090471653,
         "mass": 0.0698137985786792,
         "pedi": 0.08502910583181741,
         "age": 1,
         "class": 0.350803803354006,
         "_deepnote_index_column": "age"
        },
        {
         "preg": 0.2565659558914167,
         "plas": 0.5157027324140475,
         "pres": 0.1926732690966535,
         "skin": 0.25593565847298966,
         "test": 0.30142921904914405,
         "mass": 0.270118409404338,
         "pedi": 0.2093295108751476,
         "age": 0.350803803354006,
         "class": 1,
         "_deepnote_index_column": "class"
        }
       ],
       "rows_bottom": null
      },
      "text/plain": "           preg      plas      pres      skin      test      mass      pedi  \\\npreg   1.000000  0.198291  0.213355  0.093209  0.078984 -0.025347  0.007562   \nplas   0.198291  1.000000  0.210027  0.198856  0.581223  0.209516  0.140180   \npres   0.213355  0.210027  1.000000  0.232571  0.098512  0.304403 -0.015971   \nskin   0.093209  0.198856  0.232571  1.000000  0.182199  0.664355  0.160499   \ntest   0.078984  0.581223  0.098512  0.182199  1.000000  0.226397  0.135906   \nmass  -0.025347  0.209516  0.304403  0.664355  0.226397  1.000000  0.158771   \npedi   0.007562  0.140180 -0.015971  0.160499  0.135906  0.158771  1.000000   \nage    0.679608  0.343641  0.300039  0.167761  0.217082  0.069814  0.085029   \nclass  0.256566  0.515703  0.192673  0.255936  0.301429  0.270118  0.209330   \n\n            age     class  \npreg   0.679608  0.256566  \nplas   0.343641  0.515703  \npres   0.300039  0.192673  \nskin   0.167761  0.255936  \ntest   0.217082  0.301429  \nmass   0.069814  0.270118  \npedi   0.085029  0.209330  \nage    1.000000  0.350804  \nclass  0.350804  1.000000  ",
      "text/html": "<div>\n<style scoped>\n    .dataframe tbody tr th:only-of-type {\n        vertical-align: middle;\n    }\n\n    .dataframe tbody tr th {\n        vertical-align: top;\n    }\n\n    .dataframe thead th {\n        text-align: right;\n    }\n</style>\n<table border=\"1\" class=\"dataframe\">\n  <thead>\n    <tr style=\"text-align: right;\">\n      <th></th>\n      <th>preg</th>\n      <th>plas</th>\n      <th>pres</th>\n      <th>skin</th>\n      <th>test</th>\n      <th>mass</th>\n      <th>pedi</th>\n      <th>age</th>\n      <th>class</th>\n    </tr>\n  </thead>\n  <tbody>\n    <tr>\n      <th>preg</th>\n      <td>1.000000</td>\n      <td>0.198291</td>\n      <td>0.213355</td>\n      <td>0.093209</td>\n      <td>0.078984</td>\n      <td>-0.025347</td>\n      <td>0.007562</td>\n      <td>0.679608</td>\n      <td>0.256566</td>\n    </tr>\n    <tr>\n      <th>plas</th>\n      <td>0.198291</td>\n      <td>1.000000</td>\n      <td>0.210027</td>\n      <td>0.198856</td>\n      <td>0.581223</td>\n      <td>0.209516</td>\n      <td>0.140180</td>\n      <td>0.343641</td>\n      <td>0.515703</td>\n    </tr>\n    <tr>\n      <th>pres</th>\n      <td>0.213355</td>\n      <td>0.210027</td>\n      <td>1.000000</td>\n      <td>0.232571</td>\n      <td>0.098512</td>\n      <td>0.304403</td>\n      <td>-0.015971</td>\n      <td>0.300039</td>\n      <td>0.192673</td>\n    </tr>\n    <tr>\n      <th>skin</th>\n      <td>0.093209</td>\n      <td>0.198856</td>\n      <td>0.232571</td>\n      <td>1.000000</td>\n      <td>0.182199</td>\n      <td>0.664355</td>\n      <td>0.160499</td>\n      <td>0.167761</td>\n      <td>0.255936</td>\n    </tr>\n    <tr>\n      <th>test</th>\n      <td>0.078984</td>\n      <td>0.581223</td>\n      <td>0.098512</td>\n      <td>0.182199</td>\n      <td>1.000000</td>\n      <td>0.226397</td>\n      <td>0.135906</td>\n      <td>0.217082</td>\n      <td>0.301429</td>\n    </tr>\n    <tr>\n      <th>mass</th>\n      <td>-0.025347</td>\n      <td>0.209516</td>\n      <td>0.304403</td>\n      <td>0.664355</td>\n      <td>0.226397</td>\n      <td>1.000000</td>\n      <td>0.158771</td>\n      <td>0.069814</td>\n      <td>0.270118</td>\n    </tr>\n    <tr>\n      <th>pedi</th>\n      <td>0.007562</td>\n      <td>0.140180</td>\n      <td>-0.015971</td>\n      <td>0.160499</td>\n      <td>0.135906</td>\n      <td>0.158771</td>\n      <td>1.000000</td>\n      <td>0.085029</td>\n      <td>0.209330</td>\n    </tr>\n    <tr>\n      <th>age</th>\n      <td>0.679608</td>\n      <td>0.343641</td>\n      <td>0.300039</td>\n      <td>0.167761</td>\n      <td>0.217082</td>\n      <td>0.069814</td>\n      <td>0.085029</td>\n      <td>1.000000</td>\n      <td>0.350804</td>\n    </tr>\n    <tr>\n      <th>class</th>\n      <td>0.256566</td>\n      <td>0.515703</td>\n      <td>0.192673</td>\n      <td>0.255936</td>\n      <td>0.301429</td>\n      <td>0.270118</td>\n      <td>0.209330</td>\n      <td>0.350804</td>\n      <td>1.000000</td>\n    </tr>\n  </tbody>\n</table>\n</div>"
     },
     "metadata": {}
    }
   ],
   "execution_count": null
  },
  {
   "cell_type": "markdown",
   "source": "Find the accuracy for random forests with 1 to 100 trees, counting by 5. Print and then plot these accuracies.",
   "metadata": {
    "colab_type": "text",
    "id": "lynu8pLDtd0S",
    "cell_id": "00032-b66c2556-892c-4fe8-8399-f5699345b768",
    "deepnote_cell_type": "markdown"
   }
  },
  {
   "cell_type": "code",
   "metadata": {
    "colab": {
     "autoexec": {
      "startup": false,
      "wait_interval": 0
     },
     "base_uri": "https://localhost:8080/",
     "height": 17
    },
    "colab_type": "code",
    "executionInfo": {
     "elapsed": 371,
     "status": "ok",
     "timestamp": 1530627860158,
     "user": {
      "displayName": "john passarelli",
      "photoUrl": "https://lh3.googleusercontent.com/a/default-user=s128",
      "userId": "102241934905781120798"
     },
     "user_tz": 240
    },
    "id": "e2hG7npcuM7f",
    "outputId": "fb9e32ed-fb17-462e-a2f2-8db7964bb3d7",
    "cell_id": "00033-cc17e767-e961-47c5-b451-f98211db658d",
    "deepnote_to_be_reexecuted": false,
    "source_hash": "28837348",
    "execution_start": 1625688158661,
    "execution_millis": 3705,
    "deepnote_cell_type": "code"
   },
   "source": "## YOUR CODE HERE\nfor i in range(0,101, 5):\n    if i == 0:\n        i = 1\n    curr_r_forest = RandomForestClassifier(n_estimators=i)\n    curr_r_forest.fit(X_val, y_val)\n    y_val_pred=curr_r_forest.predict(X_val)\n    print(\"Validation Accuracy for \" + str(i) + \" trees is \", accuracy_score(y_val,y_val_pred)*100)\n",
   "outputs": [
    {
     "name": "stdout",
     "text": "Validation Accuracy for 1 trees is  90.47619047619048\nValidation Accuracy for 5 trees is  98.4126984126984\nValidation Accuracy for 10 trees is  100.0\nValidation Accuracy for 15 trees is  98.4126984126984\nValidation Accuracy for 20 trees is  100.0\nValidation Accuracy for 25 trees is  100.0\nValidation Accuracy for 30 trees is  100.0\nValidation Accuracy for 35 trees is  100.0\nValidation Accuracy for 40 trees is  98.4126984126984\nValidation Accuracy for 45 trees is  100.0\nValidation Accuracy for 50 trees is  100.0\nValidation Accuracy for 55 trees is  100.0\nValidation Accuracy for 60 trees is  100.0\nValidation Accuracy for 65 trees is  100.0\nValidation Accuracy for 70 trees is  100.0\nValidation Accuracy for 75 trees is  100.0\nValidation Accuracy for 80 trees is  100.0\nValidation Accuracy for 85 trees is  100.0\nValidation Accuracy for 90 trees is  100.0\nValidation Accuracy for 95 trees is  100.0\nValidation Accuracy for 100 trees is  100.0\n",
     "output_type": "stream"
    }
   ],
   "execution_count": null
  },
  {
   "cell_type": "markdown",
   "source": "Plot the roc_curve using predict_proba a function for our random forest model, and metrics.roc_curve\n\nIt might help to google these functions and look at sklearn's documentation.",
   "metadata": {
    "cell_id": "00034-e51aa614-cd4a-40a3-9dcd-64e7966fbf1c",
    "deepnote_cell_type": "markdown"
   }
  },
  {
   "cell_type": "code",
   "metadata": {
    "cell_id": "00035-104f4dee-fe87-4866-ad6c-d7b4b3d97e90",
    "deepnote_to_be_reexecuted": false,
    "source_hash": "2bbbaba9",
    "execution_start": 1625688408161,
    "execution_millis": 223,
    "deepnote_cell_type": "code"
   },
   "source": "## YOUR CODE HERE\n\ny_val_prob = random_forest.predict_proba(X_val)\n\nfpr, tpr, thresholds = metrics.roc_curve(y_val, y_val_prob[:,1])\n\nroc_auc = metrics.auc(fpr, tpr)\nprint(roc_auc)\n\nplt.figure(figsize=(6,6))\nlw = 2\nplt.plot(fpr, tpr, color='darkorange',\n         lw=lw, label='ROC curve (area = %0.2f)' % roc_auc)\nplt.plot([0, 1], [0, 1], color='navy', lw=lw, linestyle='--')\nplt.xlim([0.0, 1.0])\nplt.ylim([0.0, 1.0])\nplt.xlabel('False Positive Rate')\nplt.ylabel('True Positive Rate')\nplt.title('Receiver operating characteristic')\nplt.legend(loc=\"lower right\")\nplt.show()",
   "outputs": [
    {
     "name": "stdout",
     "text": "0.8804347826086956\n",
     "output_type": "stream"
    },
    {
     "data": {
      "text/plain": "<Figure size 432x432 with 1 Axes>",
      "image/png": "[encoded data removed]"
     },
     "metadata": {
      "needs_background": "light",
      "image/png": {
       "width": 394,
       "height": 387
      }
     },
     "output_type": "display_data"
    }
   ],
   "execution_count": null
  },
  {
   "cell_type": "markdown",
   "source": "<a style='text-decoration:none;line-height:16px;display:flex;color:#5B5B62;padding:10px;justify-content:end;' href='https://deepnote.com?utm_source=created-in-deepnote-cell&projectId=b2e5d927-2385-4568-8e15-cf987a345e38' target=\"_blank\">\n<img alt='Created in deepnote.com' style='display:inline;max-height:16px;margin:0px;margin-right:7.5px;' src='data:image/svg+xml;base64,PD94bWwgdmVyc2lvbj0iMS4wIiBlbmNvZGluZz0iVVRGLTgiPz4KPHN2ZyB3aWR0aD0iODBweCIgaGVpZ2h0PSI4MHB4IiB2aWV3Qm94PSIwIDAgODAgODAiIHZlcnNpb249IjEuMSIgeG1sbnM9Imh0dHA6Ly93d3cudzMub3JnLzIwMDAvc3ZnIiB4bWxuczp4bGluaz0iaHR0cDovL3d3dy53My5vcmcvMTk5OS94bGluayI+CiAgICA8IS0tIEdlbmVyYXRvcjogU2tldGNoIDU0LjEgKDc2NDkwKSAtIGh0dHBzOi8vc2tldGNoYXBwLmNvbSAtLT4KICAgIDx0aXRsZT5Hcm91cCAzPC90aXRsZT4KICAgIDxkZXNjPkNyZWF0ZWQgd2l0aCBTa2V0Y2guPC9kZXNjPgogICAgPGcgaWQ9IkxhbmRpbmciIHN0cm9rZT0ibm9uZSIgc3Ryb2tlLXdpZHRoPSIxIiBmaWxsPSJub25lIiBmaWxsLXJ1bGU9ImV2ZW5vZGQiPgogICAgICAgIDxnIGlkPSJBcnRib2FyZCIgdHJhbnNmb3JtPSJ0cmFuc2xhdGUoLTEyMzUuMDAwMDAwLCAtNzkuMDAwMDAwKSI+CiAgICAgICAgICAgIDxnIGlkPSJHcm91cC0zIiB0cmFuc2Zvcm09InRyYW5zbGF0ZSgxMjM1LjAwMDAwMCwgNzkuMDAwMDAwKSI+CiAgICAgICAgICAgICAgICA8cG9seWdvbiBpZD0iUGF0aC0yMCIgZmlsbD0iIzAyNjVCNCIgcG9pbnRzPSIyLjM3NjIzNzYyIDgwIDM4LjA0NzY2NjcgODAgNTcuODIxNzgyMiA3My44MDU3NTkyIDU3LjgyMTc4MjIgMzIuNzU5MjczOSAzOS4xNDAyMjc4IDMxLjY4MzE2ODMiPjwvcG9seWdvbj4KICAgICAgICAgICAgICAgIDxwYXRoIGQ9Ik0zNS4wMDc3MTgsODAgQzQyLjkwNjIwMDcsNzYuNDU0OTM1OCA0Ny41NjQ5MTY3LDcxLjU0MjI2NzEgNDguOTgzODY2LDY1LjI2MTk5MzkgQzUxLjExMjI4OTksNTUuODQxNTg0MiA0MS42NzcxNzk1LDQ5LjIxMjIyODQgMjUuNjIzOTg0Niw0OS4yMTIyMjg0IEMyNS40ODQ5Mjg5LDQ5LjEyNjg0NDggMjkuODI2MTI5Niw0My4yODM4MjQ4IDM4LjY0NzU4NjksMzEuNjgzMTY4MyBMNzIuODcxMjg3MSwzMi41NTQ0MjUgTDY1LjI4MDk3Myw2Ny42NzYzNDIxIEw1MS4xMTIyODk5LDc3LjM3NjE0NCBMMzUuMDA3NzE4LDgwIFoiIGlkPSJQYXRoLTIyIiBmaWxsPSIjMDAyODY4Ij48L3BhdGg+CiAgICAgICAgICAgICAgICA8cGF0aCBkPSJNMCwzNy43MzA0NDA1IEwyNy4xMTQ1MzcsMC4yNTcxMTE0MzYgQzYyLjM3MTUxMjMsLTEuOTkwNzE3MDEgODAsMTAuNTAwMzkyNyA4MCwzNy43MzA0NDA1IEM4MCw2NC45NjA0ODgyIDY0Ljc3NjUwMzgsNzkuMDUwMzQxNCAzNC4zMjk1MTEzLDgwIEM0Ny4wNTUzNDg5LDc3LjU2NzA4MDggNTMuNDE4MjY3Nyw3MC4zMTM2MTAzIDUzLjQxODI2NzcsNTguMjM5NTg4NSBDNTMuNDE4MjY3Nyw0MC4xMjg1NTU3IDM2LjMwMzk1NDQsMzcuNzMwNDQwNSAyNS4yMjc0MTcsMzcuNzMwNDQwNSBDMTcuODQzMDU4NiwzNy43MzA0NDA1IDkuNDMzOTE5NjYsMzcuNzMwNDQwNSAwLDM3LjczMDQ0MDUgWiIgaWQ9IlBhdGgtMTkiIGZpbGw9IiMzNzkzRUYiPjwvcGF0aD4KICAgICAgICAgICAgPC9nPgogICAgICAgIDwvZz4KICAgIDwvZz4KPC9zdmc+' > </img>\nCreated in <span style='font-weight:600;margin-left:4px;'>Deepnote</span></a>",
   "metadata": {
    "tags": [],
    "created_in_deepnote_cell": true,
    "deepnote_cell_type": "markdown"
   }
  }
 ],
 "nbformat": 4,
 "nbformat_minor": 1,
 "metadata": {
  "colab": {
   "collapsed_sections": [],
   "default_view": {},
   "name": "DecisionTreeWorksheetStudent",
   "provenance": [
    {
     "file_id": "165CSmT99w4_Sv1UENIyvIkH7ZEw2Xeh8",
     "timestamp": 1527780043079
    }
   ],
   "version": "0.3.2",
   "views": {}
  },
  "kernelspec": {
   "display_name": "Python 3",
   "language": "python",
   "name": "python3"
  },
  "language_info": {
   "codemirror_mode": {
    "name": "ipython",
    "version": 3
   },
   "file_extension": ".py",
   "mimetype": "text/x-python",
   "name": "python",
   "nbconvert_exporter": "python",
   "pygments_lexer": "ipython3",
   "version": "3.7.3"
  },
  "deepnote_notebook_id": "5160454b-8d9a-4d65-91ef-99b6d4c100e8",
  "deepnote": {},
  "deepnote_execution_queue": []
 }
}